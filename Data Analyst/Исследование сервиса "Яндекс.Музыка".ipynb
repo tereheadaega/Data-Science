{
 "cells": [
  {
   "cell_type": "markdown",
   "metadata": {
    "id": "E0vqbgi9ay0H"
   },
   "source": [
    "# Яндекс.Музыка"
   ]
  },
  {
   "cell_type": "markdown",
   "metadata": {
    "id": "VUC88oWjTJw2"
   },
   "source": [
    "Сравнение Москвы и Петербурга окружено мифами. Например:\n",
    " * Москва — мегаполис, подчинённый жёсткому ритму рабочей недели;\n",
    " * Петербург — культурная столица, со своими вкусами.\n",
    "\n",
    "На данных Яндекс.Музыки вы сравните поведение пользователей двух столиц.\n",
    "\n",
    "**Цель исследования** — проверьте три гипотезы:\n",
    "1. Активность пользователей зависит от дня недели. Причём в Москве и Петербурге это проявляется по-разному.\n",
    "2. В понедельник утром в Москве преобладают одни жанры, а в Петербурге — другие. Так же и вечером пятницы преобладают разные жанры — в зависимости от города. \n",
    "3. Москва и Петербург предпочитают разные жанры музыки. В Москве чаще слушают поп-музыку, в Петербурге — русский рэп.\n",
    "\n",
    "**Ход исследования**\n",
    "\n",
    "Данные о поведении пользователей вы получите из файла `yandex_music_project.csv`. О качестве данных ничего не известно. Поэтому перед проверкой гипотез понадобится обзор данных. \n",
    "\n",
    "Вы проверите данные на ошибки и оцените их влияние на исследование. Затем, на этапе предобработки вы поищете возможность исправить самые критичные ошибки данных.\n",
    " \n",
    "Таким образом, исследование пройдёт в три этапа:\n",
    " 1. Обзор данных.\n",
    " 2. Предобработка данных.\n",
    " 3. Проверка гипотез.\n",
    "\n"
   ]
  },
  {
   "cell_type": "markdown",
   "metadata": {
    "id": "Ml1hmfXC_Zcs"
   },
   "source": [
    "## Обзор данных\n",
    "\n",
    "\n"
   ]
  },
  {
   "cell_type": "markdown",
   "metadata": {
    "id": "57eAOGIz_Zcs"
   },
   "source": [
    "Основной инструмент аналитика — `pandas`. Импортируйте эту библиотеку."
   ]
  },
  {
   "cell_type": "code",
   "execution_count": 189,
   "metadata": {
    "id": "AXN7PHPN_Zcs"
   },
   "outputs": [],
   "source": [
    "import pandas as pd\n",
    "# импорт библиотеки pandas"
   ]
  },
  {
   "cell_type": "markdown",
   "metadata": {
    "id": "SG23P8tt_Zcs"
   },
   "source": [
    "Прочитайте файл `yandex_music_project.csv` из папки `/datasets` и сохраните его в переменной `df`:"
   ]
  },
  {
   "cell_type": "code",
   "execution_count": 190,
   "metadata": {
    "id": "fFVu7vqh_Zct"
   },
   "outputs": [],
   "source": [
    "df = pd.read_csv('/datasets/yandex_music_project.csv')\n",
    "# чтение файла из папки"
   ]
  },
  {
   "cell_type": "markdown",
   "metadata": {
    "id": "rDoOMd3uTqnZ"
   },
   "source": [
    "Выведите на экран первые десять строк таблицы:"
   ]
  },
  {
   "cell_type": "code",
   "execution_count": 191,
   "metadata": {
    "id": "oWTVX3gW_Zct"
   },
   "outputs": [
    {
     "data": {
      "text/html": [
       "<div>\n",
       "<style scoped>\n",
       "    .dataframe tbody tr th:only-of-type {\n",
       "        vertical-align: middle;\n",
       "    }\n",
       "\n",
       "    .dataframe tbody tr th {\n",
       "        vertical-align: top;\n",
       "    }\n",
       "\n",
       "    .dataframe thead th {\n",
       "        text-align: right;\n",
       "    }\n",
       "</style>\n",
       "<table border=\"1\" class=\"dataframe\">\n",
       "  <thead>\n",
       "    <tr style=\"text-align: right;\">\n",
       "      <th></th>\n",
       "      <th>userID</th>\n",
       "      <th>Track</th>\n",
       "      <th>artist</th>\n",
       "      <th>genre</th>\n",
       "      <th>City</th>\n",
       "      <th>time</th>\n",
       "      <th>Day</th>\n",
       "    </tr>\n",
       "  </thead>\n",
       "  <tbody>\n",
       "    <tr>\n",
       "      <td>0</td>\n",
       "      <td>FFB692EC</td>\n",
       "      <td>Kamigata To Boots</td>\n",
       "      <td>The Mass Missile</td>\n",
       "      <td>rock</td>\n",
       "      <td>Saint-Petersburg</td>\n",
       "      <td>20:28:33</td>\n",
       "      <td>Wednesday</td>\n",
       "    </tr>\n",
       "    <tr>\n",
       "      <td>1</td>\n",
       "      <td>55204538</td>\n",
       "      <td>Delayed Because of Accident</td>\n",
       "      <td>Andreas Rönnberg</td>\n",
       "      <td>rock</td>\n",
       "      <td>Moscow</td>\n",
       "      <td>14:07:09</td>\n",
       "      <td>Friday</td>\n",
       "    </tr>\n",
       "    <tr>\n",
       "      <td>2</td>\n",
       "      <td>20EC38</td>\n",
       "      <td>Funiculì funiculà</td>\n",
       "      <td>Mario Lanza</td>\n",
       "      <td>pop</td>\n",
       "      <td>Saint-Petersburg</td>\n",
       "      <td>20:58:07</td>\n",
       "      <td>Wednesday</td>\n",
       "    </tr>\n",
       "    <tr>\n",
       "      <td>3</td>\n",
       "      <td>A3DD03C9</td>\n",
       "      <td>Dragons in the Sunset</td>\n",
       "      <td>Fire + Ice</td>\n",
       "      <td>folk</td>\n",
       "      <td>Saint-Petersburg</td>\n",
       "      <td>08:37:09</td>\n",
       "      <td>Monday</td>\n",
       "    </tr>\n",
       "    <tr>\n",
       "      <td>4</td>\n",
       "      <td>E2DC1FAE</td>\n",
       "      <td>Soul People</td>\n",
       "      <td>Space Echo</td>\n",
       "      <td>dance</td>\n",
       "      <td>Moscow</td>\n",
       "      <td>08:34:34</td>\n",
       "      <td>Monday</td>\n",
       "    </tr>\n",
       "    <tr>\n",
       "      <td>5</td>\n",
       "      <td>842029A1</td>\n",
       "      <td>Преданная</td>\n",
       "      <td>IMPERVTOR</td>\n",
       "      <td>rusrap</td>\n",
       "      <td>Saint-Petersburg</td>\n",
       "      <td>13:09:41</td>\n",
       "      <td>Friday</td>\n",
       "    </tr>\n",
       "    <tr>\n",
       "      <td>6</td>\n",
       "      <td>4CB90AA5</td>\n",
       "      <td>True</td>\n",
       "      <td>Roman Messer</td>\n",
       "      <td>dance</td>\n",
       "      <td>Moscow</td>\n",
       "      <td>13:00:07</td>\n",
       "      <td>Wednesday</td>\n",
       "    </tr>\n",
       "    <tr>\n",
       "      <td>7</td>\n",
       "      <td>F03E1C1F</td>\n",
       "      <td>Feeling This Way</td>\n",
       "      <td>Polina Griffith</td>\n",
       "      <td>dance</td>\n",
       "      <td>Moscow</td>\n",
       "      <td>20:47:49</td>\n",
       "      <td>Wednesday</td>\n",
       "    </tr>\n",
       "    <tr>\n",
       "      <td>8</td>\n",
       "      <td>8FA1D3BE</td>\n",
       "      <td>И вновь продолжается бой</td>\n",
       "      <td>NaN</td>\n",
       "      <td>ruspop</td>\n",
       "      <td>Moscow</td>\n",
       "      <td>09:17:40</td>\n",
       "      <td>Friday</td>\n",
       "    </tr>\n",
       "    <tr>\n",
       "      <td>9</td>\n",
       "      <td>E772D5C0</td>\n",
       "      <td>Pessimist</td>\n",
       "      <td>NaN</td>\n",
       "      <td>dance</td>\n",
       "      <td>Saint-Petersburg</td>\n",
       "      <td>21:20:49</td>\n",
       "      <td>Wednesday</td>\n",
       "    </tr>\n",
       "  </tbody>\n",
       "</table>\n",
       "</div>"
      ],
      "text/plain": [
       "     userID                        Track            artist   genre  \\\n",
       "0  FFB692EC            Kamigata To Boots  The Mass Missile    rock   \n",
       "1  55204538  Delayed Because of Accident  Andreas Rönnberg    rock   \n",
       "2    20EC38            Funiculì funiculà       Mario Lanza     pop   \n",
       "3  A3DD03C9        Dragons in the Sunset        Fire + Ice    folk   \n",
       "4  E2DC1FAE                  Soul People        Space Echo   dance   \n",
       "5  842029A1                    Преданная         IMPERVTOR  rusrap   \n",
       "6  4CB90AA5                         True      Roman Messer   dance   \n",
       "7  F03E1C1F             Feeling This Way   Polina Griffith   dance   \n",
       "8  8FA1D3BE     И вновь продолжается бой               NaN  ruspop   \n",
       "9  E772D5C0                    Pessimist               NaN   dance   \n",
       "\n",
       "             City        time        Day  \n",
       "0  Saint-Petersburg  20:28:33  Wednesday  \n",
       "1            Moscow  14:07:09     Friday  \n",
       "2  Saint-Petersburg  20:58:07  Wednesday  \n",
       "3  Saint-Petersburg  08:37:09     Monday  \n",
       "4            Moscow  08:34:34     Monday  \n",
       "5  Saint-Petersburg  13:09:41     Friday  \n",
       "6            Moscow  13:00:07  Wednesday  \n",
       "7            Moscow  20:47:49  Wednesday  \n",
       "8            Moscow  09:17:40     Friday  \n",
       "9  Saint-Petersburg  21:20:49  Wednesday  "
      ]
     },
     "metadata": {},
     "output_type": "display_data"
    }
   ],
   "source": [
    "# получение первых 10 строк таблицы df\n",
    "display(df.head(10))"
   ]
  },
  {
   "cell_type": "markdown",
   "metadata": {
    "id": "EO73Kwic_Zct"
   },
   "source": [
    "Одной командой получить общую информацию о таблице:"
   ]
  },
  {
   "cell_type": "code",
   "execution_count": 192,
   "metadata": {
    "id": "DSf2kIb-_Zct",
    "scrolled": false
   },
   "outputs": [
    {
     "name": "stdout",
     "output_type": "stream",
     "text": [
      "<class 'pandas.core.frame.DataFrame'>\n",
      "RangeIndex: 65079 entries, 0 to 65078\n",
      "Data columns (total 7 columns):\n",
      "  userID    65079 non-null object\n",
      "Track       63848 non-null object\n",
      "artist      57876 non-null object\n",
      "genre       63881 non-null object\n",
      "  City      65079 non-null object\n",
      "time        65079 non-null object\n",
      "Day         65079 non-null object\n",
      "dtypes: object(7)\n",
      "memory usage: 3.5+ MB\n"
     ]
    }
   ],
   "source": [
    "# получение общей информации о данных в таблице df\n",
    "df.info()"
   ]
  },
  {
   "cell_type": "markdown",
   "metadata": {
    "id": "TaQ2Iwbr_Zct"
   },
   "source": [
    "Итак, в таблице семь столбцов. Тип данных во всех столбцах — `object`.\n",
    "\n",
    "Согласно документации к данным:\n",
    "* `userID` — идентификатор пользователя;\n",
    "* `Track` — название трека;  \n",
    "* `artist` — имя исполнителя;\n",
    "* `genre` — название жанра;\n",
    "* `City` — город пользователя;\n",
    "* `time` — время начала прослушивания;\n",
    "* `Day` — день недели.\n",
    "\n",
    "В названиях колонок видны три нарушения стиля:\n",
    "1. Строчные буквы сочетаются с прописными.\n",
    "2. Встречаются пробелы.\n",
    "3. Перемешаны латиница и кириллица.\n",
    "(В чём я не уверен, но другого не вижу)\n",
    "\n",
    "\n",
    "Количество значений в столбцах различается. Значит, в данных есть пропущенные значения.\n"
   ]
  },
  {
   "cell_type": "markdown",
   "metadata": {
    "id": "MCB6-dXG_Zct"
   },
   "source": [
    "**Выводы**\n",
    "\n",
    "В каждой строке таблицы — данные о прослушанном треке. Часть колонок описывает саму композицию: название, исполнителя и жанр. Остальные данные рассказывают о пользователе: из какого он города, когда он слушал музыку. \n",
    "\n",
    "Предварительно можно утверждать, что, данных достаточно для проверки гипотез. Но встречаются пропуски в данных, а в названиях колонок — расхождения с хорошим стилем.\n",
    "\n",
    "Чтобы двигаться дальше, нужно устранить проблемы в данных."
   ]
  },
  {
   "cell_type": "markdown",
   "metadata": {
    "id": "SjYF6Ub9_Zct"
   },
   "source": [
    "## Предобработка данных\n",
    "Исправьте стиль в заголовках столбцов, исключите пропуски. Затем проверьте данные на дубликаты."
   ]
  },
  {
   "cell_type": "markdown",
   "metadata": {
    "id": "dIaKXr29_Zct"
   },
   "source": [
    "### Стиль заголовков\n",
    "Выведите на экран названия столбцов:"
   ]
  },
  {
   "cell_type": "code",
   "execution_count": 193,
   "metadata": {
    "id": "oKOTdF_Q_Zct"
   },
   "outputs": [
    {
     "data": {
      "text/plain": [
       "Index(['  userID', 'Track', 'artist', 'genre', '  City  ', 'time', 'Day'], dtype='object')"
      ]
     },
     "execution_count": 193,
     "metadata": {},
     "output_type": "execute_result"
    }
   ],
   "source": [
    "# перечень названий столбцов таблицы df\n",
    "df.columns"
   ]
  },
  {
   "cell_type": "markdown",
   "metadata": {
    "id": "zj5534cv_Zct"
   },
   "source": [
    "Приведите названия в соответствие с хорошим стилем:\n",
    "* несколько слов в названии запишите в «змеином_регистре»,\n",
    "* все символы сделайте строчными,\n",
    "* устраните пробелы.\n",
    "\n",
    "Для этого переименуйте колонки так:\n",
    "* `'  userID'` → `'user_id'`;\n",
    "* `'Track'` → `'track'`;\n",
    "* `'  City  '` → `'city'`;\n",
    "* `'Day'` → `'day'`."
   ]
  },
  {
   "cell_type": "code",
   "execution_count": 194,
   "metadata": {
    "id": "ISlFqs5y_Zct"
   },
   "outputs": [],
   "source": [
    "# переименование столбцов\n",
    "df = df.rename(\n",
    "columns={\n",
    "'  userID' : 'user_id',\n",
    "'Track' : 'track',\n",
    "'  City  ' : 'city',\n",
    "'Day' : 'day' }\n",
    ")"
   ]
  },
  {
   "cell_type": "markdown",
   "metadata": {
    "id": "1dqbh00J_Zct"
   },
   "source": [
    "Проверьте результат. Для этого ещё раз выведите на экран названия столбцов:"
   ]
  },
  {
   "cell_type": "code",
   "execution_count": 195,
   "metadata": {
    "id": "d4NOAmTW_Zct"
   },
   "outputs": [
    {
     "data": {
      "text/plain": [
       "Index(['user_id', 'track', 'artist', 'genre', 'city', 'time', 'day'], dtype='object')"
      ]
     },
     "execution_count": 195,
     "metadata": {},
     "output_type": "execute_result"
    }
   ],
   "source": [
    "# проверка результатов - перечень названий столбцов\n",
    "df.columns"
   ]
  },
  {
   "cell_type": "markdown",
   "metadata": {
    "id": "5ISfbcfY_Zct"
   },
   "source": [
    "### Пропуски значений\n",
    "Сначала посчитайте, сколько в таблице пропущенных значений. Для этого достаточно двух методов `pandas`:"
   ]
  },
  {
   "cell_type": "code",
   "execution_count": 196,
   "metadata": {
    "id": "RskX29qr_Zct"
   },
   "outputs": [
    {
     "data": {
      "text/plain": [
       "user_id       0\n",
       "track      1231\n",
       "artist     7203\n",
       "genre      1198\n",
       "city          0\n",
       "time          0\n",
       "day           0\n",
       "dtype: int64"
      ]
     },
     "execution_count": 196,
     "metadata": {},
     "output_type": "execute_result"
    }
   ],
   "source": [
    "# подсчёт пропусков\n",
    "df.isna().sum()"
   ]
  },
  {
   "cell_type": "markdown",
   "metadata": {
    "id": "qubhgnlO_Zct"
   },
   "source": [
    "Не все пропущенные значения влияют на исследование. Так в `track` и `artist` пропуски не важны для вашей работы. Достаточно заменить их явными обозначениями.\n",
    "\n",
    "Но пропуски в `genre` могут помешать сравнению музыкальных вкусов в Москве и Санкт-Петербурге. На практике было бы правильно установить причину пропусков и восстановить данные. Такой возможности нет в учебном проекте. Придётся:\n",
    "* заполнить и эти пропуски явными обозначениями,\n",
    "* оценить, насколько они повредят расчётам. "
   ]
  },
  {
   "cell_type": "markdown",
   "metadata": {
    "id": "fSv2laPA_Zct"
   },
   "source": [
    "Замените пропущенные значения в столбцах `track`, `artist` и `genre` на строку `'unknown'`. Для этого создайте список `columns_to_replace`, переберите его элементы циклом `for` и для каждого столбца выполните замену пропущенных значений:"
   ]
  },
  {
   "cell_type": "code",
   "execution_count": 197,
   "metadata": {
    "id": "KplB5qWs_Zct"
   },
   "outputs": [],
   "source": [
    "# перебор названий столбцов в цикле и замена пропущенных значений на 'unknown'\n",
    "columns_to_replace = ['track', 'artist' , 'genre']\n",
    "for element in columns_to_replace:\n",
    "    df[element]= df[element].fillna('unknown')"
   ]
  },
  {
   "cell_type": "markdown",
   "metadata": {
    "id": "Ilsm-MZo_Zct"
   },
   "source": [
    "Убедитесь, что в таблице не осталось пропусков. Для этого ещё раз посчитайте пропущенные значения."
   ]
  },
  {
   "cell_type": "code",
   "execution_count": 198,
   "metadata": {
    "id": "Tq4nYRX4_Zct"
   },
   "outputs": [
    {
     "data": {
      "text/plain": [
       "user_id    0\n",
       "track      0\n",
       "artist     0\n",
       "genre      0\n",
       "city       0\n",
       "time       0\n",
       "day        0\n",
       "dtype: int64"
      ]
     },
     "execution_count": 198,
     "metadata": {},
     "output_type": "execute_result"
    }
   ],
   "source": [
    "# подсчёт пропусков\n",
    "df.isna().sum()"
   ]
  },
  {
   "cell_type": "markdown",
   "metadata": {
    "id": "BWKRtBJ3_Zct"
   },
   "source": [
    "### Дубликаты\n",
    "Посчитайте явные дубликаты в таблице одной командой:"
   ]
  },
  {
   "cell_type": "code",
   "execution_count": 199,
   "metadata": {
    "id": "36eES_S0_Zct"
   },
   "outputs": [
    {
     "data": {
      "text/plain": [
       "3826"
      ]
     },
     "execution_count": 199,
     "metadata": {},
     "output_type": "execute_result"
    }
   ],
   "source": [
    "# подсчёт явных дубликатов\n",
    "\n",
    "df.duplicated().sum()"
   ]
  },
  {
   "cell_type": "markdown",
   "metadata": {
    "id": "Ot25h6XR_Zct"
   },
   "source": [
    "Вызовите специальный метод `pandas`, чтобы удалить явные дубликаты:"
   ]
  },
  {
   "cell_type": "code",
   "execution_count": 200,
   "metadata": {
    "id": "exFHq6tt_Zct"
   },
   "outputs": [],
   "source": [
    "# удаление явных дубликатов (с удалением старых индексов и формированием новых)\n",
    "df = df.drop_duplicates().reset_index(drop=True)"
   ]
  },
  {
   "cell_type": "markdown",
   "metadata": {
    "id": "Im2YwBEG_Zct"
   },
   "source": [
    "Ещё раз посчитайте явные дубликаты в таблице — убедитесь, что полностью от них избавились:"
   ]
  },
  {
   "cell_type": "code",
   "execution_count": 201,
   "metadata": {
    "id": "-8PuNWQ0_Zct"
   },
   "outputs": [
    {
     "data": {
      "text/plain": [
       "0"
      ]
     },
     "execution_count": 201,
     "metadata": {},
     "output_type": "execute_result"
    }
   ],
   "source": [
    "# проверка на отсутствие дубликатов\n",
    "df.duplicated().sum()"
   ]
  },
  {
   "cell_type": "markdown",
   "metadata": {
    "id": "QlFBsxAr_Zct"
   },
   "source": [
    "Теперь избавьтесь от неявных дубликатов в колонке `genre`. Например, название одного и того же жанра может быть записано немного по-разному. Такие ошибки тоже повлияют на результат исследования."
   ]
  },
  {
   "cell_type": "markdown",
   "metadata": {
    "id": "eSjWwsOh_Zct"
   },
   "source": [
    "Выведите на экран список уникальных названий жанров, отсортированный в алфавитном порядке. Для этого:\n",
    "* извлеките нужный столбец датафрейма, \n",
    "* примените к нему метод сортировки,\n",
    "* для отсортированного столбца вызовите метод, который вернёт уникальные значения из столбца."
   ]
  },
  {
   "cell_type": "code",
   "execution_count": 202,
   "metadata": {
    "id": "JIUcqzZN_Zct",
    "scrolled": true
   },
   "outputs": [
    {
     "data": {
      "text/plain": [
       "['acid',\n",
       " 'acoustic',\n",
       " 'action',\n",
       " 'adult',\n",
       " 'africa',\n",
       " 'afrikaans',\n",
       " 'alternative',\n",
       " 'alternativepunk',\n",
       " 'ambient',\n",
       " 'americana',\n",
       " 'animated',\n",
       " 'anime',\n",
       " 'arabesk',\n",
       " 'arabic',\n",
       " 'arena',\n",
       " 'argentinetango',\n",
       " 'art',\n",
       " 'audiobook',\n",
       " 'author',\n",
       " 'avantgarde',\n",
       " 'axé',\n",
       " 'baile',\n",
       " 'balkan',\n",
       " 'beats',\n",
       " 'bigroom',\n",
       " 'black',\n",
       " 'bluegrass',\n",
       " 'blues',\n",
       " 'bollywood',\n",
       " 'bossa',\n",
       " 'brazilian',\n",
       " 'breakbeat',\n",
       " 'breaks',\n",
       " 'broadway',\n",
       " 'cantautori',\n",
       " 'cantopop',\n",
       " 'canzone',\n",
       " 'caribbean',\n",
       " 'caucasian',\n",
       " 'celtic',\n",
       " 'chamber',\n",
       " 'chanson',\n",
       " 'children',\n",
       " 'chill',\n",
       " 'chinese',\n",
       " 'choral',\n",
       " 'christian',\n",
       " 'christmas',\n",
       " 'classical',\n",
       " 'classicmetal',\n",
       " 'club',\n",
       " 'colombian',\n",
       " 'comedy',\n",
       " 'conjazz',\n",
       " 'contemporary',\n",
       " 'country',\n",
       " 'cuban',\n",
       " 'dance',\n",
       " 'dancehall',\n",
       " 'dancepop',\n",
       " 'dark',\n",
       " 'death',\n",
       " 'deep',\n",
       " 'deutschrock',\n",
       " 'deutschspr',\n",
       " 'dirty',\n",
       " 'disco',\n",
       " 'dnb',\n",
       " 'documentary',\n",
       " 'downbeat',\n",
       " 'downtempo',\n",
       " 'drum',\n",
       " 'dub',\n",
       " 'dubstep',\n",
       " 'eastern',\n",
       " 'easy',\n",
       " 'electronic',\n",
       " 'electropop',\n",
       " 'emo',\n",
       " 'entehno',\n",
       " 'epicmetal',\n",
       " 'estrada',\n",
       " 'ethnic',\n",
       " 'eurofolk',\n",
       " 'european',\n",
       " 'experimental',\n",
       " 'extrememetal',\n",
       " 'fado',\n",
       " 'fairytail',\n",
       " 'film',\n",
       " 'fitness',\n",
       " 'flamenco',\n",
       " 'folk',\n",
       " 'folklore',\n",
       " 'folkmetal',\n",
       " 'folkrock',\n",
       " 'folktronica',\n",
       " 'forró',\n",
       " 'frankreich',\n",
       " 'französisch',\n",
       " 'french',\n",
       " 'funk',\n",
       " 'future',\n",
       " 'gangsta',\n",
       " 'garage',\n",
       " 'german',\n",
       " 'ghazal',\n",
       " 'gitarre',\n",
       " 'glitch',\n",
       " 'gospel',\n",
       " 'gothic',\n",
       " 'grime',\n",
       " 'grunge',\n",
       " 'gypsy',\n",
       " 'handsup',\n",
       " \"hard'n'heavy\",\n",
       " 'hardcore',\n",
       " 'hardstyle',\n",
       " 'hardtechno',\n",
       " 'hip',\n",
       " 'hip-hop',\n",
       " 'hiphop',\n",
       " 'historisch',\n",
       " 'holiday',\n",
       " 'hop',\n",
       " 'horror',\n",
       " 'house',\n",
       " 'hymn',\n",
       " 'idm',\n",
       " 'independent',\n",
       " 'indian',\n",
       " 'indie',\n",
       " 'indipop',\n",
       " 'industrial',\n",
       " 'inspirational',\n",
       " 'instrumental',\n",
       " 'international',\n",
       " 'irish',\n",
       " 'jam',\n",
       " 'japanese',\n",
       " 'jazz',\n",
       " 'jewish',\n",
       " 'jpop',\n",
       " 'jungle',\n",
       " 'k-pop',\n",
       " 'karadeniz',\n",
       " 'karaoke',\n",
       " 'kayokyoku',\n",
       " 'korean',\n",
       " 'laiko',\n",
       " 'latin',\n",
       " 'latino',\n",
       " 'leftfield',\n",
       " 'local',\n",
       " 'lounge',\n",
       " 'loungeelectronic',\n",
       " 'lovers',\n",
       " 'malaysian',\n",
       " 'mandopop',\n",
       " 'marschmusik',\n",
       " 'meditative',\n",
       " 'mediterranean',\n",
       " 'melodic',\n",
       " 'metal',\n",
       " 'metalcore',\n",
       " 'mexican',\n",
       " 'middle',\n",
       " 'minimal',\n",
       " 'miscellaneous',\n",
       " 'modern',\n",
       " 'mood',\n",
       " 'mpb',\n",
       " 'muslim',\n",
       " 'native',\n",
       " 'neoklassik',\n",
       " 'neue',\n",
       " 'new',\n",
       " 'newage',\n",
       " 'newwave',\n",
       " 'nu',\n",
       " 'nujazz',\n",
       " 'numetal',\n",
       " 'oceania',\n",
       " 'old',\n",
       " 'opera',\n",
       " 'orchestral',\n",
       " 'other',\n",
       " 'piano',\n",
       " 'podcasts',\n",
       " 'pop',\n",
       " 'popdance',\n",
       " 'popelectronic',\n",
       " 'popeurodance',\n",
       " 'poprussian',\n",
       " 'post',\n",
       " 'posthardcore',\n",
       " 'postrock',\n",
       " 'power',\n",
       " 'progmetal',\n",
       " 'progressive',\n",
       " 'psychedelic',\n",
       " 'punjabi',\n",
       " 'punk',\n",
       " 'quebecois',\n",
       " 'ragga',\n",
       " 'ram',\n",
       " 'rancheras',\n",
       " 'rap',\n",
       " 'rave',\n",
       " 'reggae',\n",
       " 'reggaeton',\n",
       " 'regional',\n",
       " 'relax',\n",
       " 'religious',\n",
       " 'retro',\n",
       " 'rhythm',\n",
       " 'rnb',\n",
       " 'rnr',\n",
       " 'rock',\n",
       " 'rockabilly',\n",
       " 'rockalternative',\n",
       " 'rockindie',\n",
       " 'rockother',\n",
       " 'romance',\n",
       " 'roots',\n",
       " 'ruspop',\n",
       " 'rusrap',\n",
       " 'rusrock',\n",
       " 'russian',\n",
       " 'salsa',\n",
       " 'samba',\n",
       " 'scenic',\n",
       " 'schlager',\n",
       " 'self',\n",
       " 'sertanejo',\n",
       " 'shanson',\n",
       " 'shoegazing',\n",
       " 'showtunes',\n",
       " 'singer',\n",
       " 'ska',\n",
       " 'skarock',\n",
       " 'slow',\n",
       " 'smooth',\n",
       " 'soft',\n",
       " 'soul',\n",
       " 'soulful',\n",
       " 'sound',\n",
       " 'soundtrack',\n",
       " 'southern',\n",
       " 'specialty',\n",
       " 'speech',\n",
       " 'spiritual',\n",
       " 'sport',\n",
       " 'stonerrock',\n",
       " 'surf',\n",
       " 'swing',\n",
       " 'synthpop',\n",
       " 'synthrock',\n",
       " 'sängerportrait',\n",
       " 'tango',\n",
       " 'tanzorchester',\n",
       " 'taraftar',\n",
       " 'tatar',\n",
       " 'tech',\n",
       " 'techno',\n",
       " 'teen',\n",
       " 'thrash',\n",
       " 'top',\n",
       " 'traditional',\n",
       " 'tradjazz',\n",
       " 'trance',\n",
       " 'tribal',\n",
       " 'trip',\n",
       " 'triphop',\n",
       " 'tropical',\n",
       " 'türk',\n",
       " 'türkçe',\n",
       " 'ukrrock',\n",
       " 'unknown',\n",
       " 'urban',\n",
       " 'uzbek',\n",
       " 'variété',\n",
       " 'vi',\n",
       " 'videogame',\n",
       " 'vocal',\n",
       " 'western',\n",
       " 'world',\n",
       " 'worldbeat',\n",
       " 'ïîï',\n",
       " 'электроника']"
      ]
     },
     "metadata": {},
     "output_type": "display_data"
    }
   ],
   "source": [
    "# Просмотр уникальных названий жанров\n",
    "display(sorted(df['genre'].unique())) # запись одной строкой, которая у меня долго не получалась\n",
    "#df = df.sort_values(by = 'genre') # запись в несколько строк, которая была планом б)\n",
    "#df_sorted = df['genre'].unique()\n",
    "#display(df_sorted)"
   ]
  },
  {
   "cell_type": "markdown",
   "metadata": {
    "id": "qej-Qmuo_Zct"
   },
   "source": [
    "Просмотрите список и найдите неявные дубликаты названия `hiphop`. Это могут быть названия с ошибками или альтернативные названия того же жанра.\n",
    "\n",
    "Вы увидите следующие неявные дубликаты:\n",
    "* *hip*,\n",
    "* *hop*,\n",
    "* *hip-hop*.\n",
    "\n",
    "`Кроме вышеописанных неявных дубликатов можно отметить, что в данном списке есть единственный жанр, записанный кириллицей: 'электроника', при этом в списке можно увидеть этот же жанр, написанный латиницей: 'electronic' `\n",
    "Отдельно отмечу, жанры: 'ïîï', 'türk', 'türkçe'.\n",
    "Если про первый жанр сказать что-либо сложно (кроме того, что используются символы не из датинского алфавита. Могу предположить, что тут есть проблема с кодировкой)\n",
    "второй и третий жанр, скорее всего, неявные дубликаты.\n",
    "Однако, самостоятельное исследование данных гипотез не дало резуьтаты. В дальнейшем исследовании мы будем исходить из того, что эти данные влияют на общее исследование незначительно.\n",
    "\n",
    "\n",
    "\n",
    "Чтобы очистить от них таблицу, напишите функцию `replace_wrong_genres()` с двумя параметрами: \n",
    "* `wrong_genres` — список дубликатов,\n",
    "* `correct_genre` — строка с правильным значением.\n",
    "\n",
    "Функция должна исправить колонку `genre` в таблице `df`: заменить каждое значение из списка `wrong_genres` на значение из `correct_genre`."
   ]
  },
  {
   "cell_type": "code",
   "execution_count": 203,
   "metadata": {
    "id": "ErNDkmns_Zct"
   },
   "outputs": [],
   "source": [
    "# Функция для замены неявных дубликатов\n",
    "def replace_wrong_genres(wrong_genres, correct_genre):\n",
    "    for wrong_genre in wrong_genres:\n",
    "        df['genre'] = df['genre'].replace(wrong_genres, correct_genre)\n",
    "    "
   ]
  },
  {
   "cell_type": "markdown",
   "metadata": {
    "id": "aDoBJxbA_Zct"
   },
   "source": [
    "Вызовите `replace_wrong_genres()` и передайте ей такие аргументы, чтобы она устранила неявные дубликаты: вместо `hip`, `hop` и `hip-hop` в таблице должно быть значение `hiphop`:"
   ]
  },
  {
   "cell_type": "code",
   "execution_count": 204,
   "metadata": {
    "id": "YN5i2hpmSo09"
   },
   "outputs": [],
   "source": [
    "# Устранение неявных дубликатов\n",
    "problem_genres = ['hip', 'hop', 'hip-hop']\n",
    "replace_wrong_genres(problem_genres, 'hiphop')\n"
   ]
  },
  {
   "cell_type": "markdown",
   "metadata": {
    "id": "zQKF16_RG15m"
   },
   "source": [
    "Проверьте, что заменили неправильные названия:\n",
    "\n",
    "*   hip\n",
    "*   hop\n",
    "*   hip-hop\n",
    "\n",
    "Выведите отсортированный список уникальных значений столбца `genre`:"
   ]
  },
  {
   "cell_type": "code",
   "execution_count": 205,
   "metadata": {
    "id": "wvixALnFG15m"
   },
   "outputs": [
    {
     "data": {
      "text/plain": [
       "['acid',\n",
       " 'acoustic',\n",
       " 'action',\n",
       " 'adult',\n",
       " 'africa',\n",
       " 'afrikaans',\n",
       " 'alternative',\n",
       " 'alternativepunk',\n",
       " 'ambient',\n",
       " 'americana',\n",
       " 'animated',\n",
       " 'anime',\n",
       " 'arabesk',\n",
       " 'arabic',\n",
       " 'arena',\n",
       " 'argentinetango',\n",
       " 'art',\n",
       " 'audiobook',\n",
       " 'author',\n",
       " 'avantgarde',\n",
       " 'axé',\n",
       " 'baile',\n",
       " 'balkan',\n",
       " 'beats',\n",
       " 'bigroom',\n",
       " 'black',\n",
       " 'bluegrass',\n",
       " 'blues',\n",
       " 'bollywood',\n",
       " 'bossa',\n",
       " 'brazilian',\n",
       " 'breakbeat',\n",
       " 'breaks',\n",
       " 'broadway',\n",
       " 'cantautori',\n",
       " 'cantopop',\n",
       " 'canzone',\n",
       " 'caribbean',\n",
       " 'caucasian',\n",
       " 'celtic',\n",
       " 'chamber',\n",
       " 'chanson',\n",
       " 'children',\n",
       " 'chill',\n",
       " 'chinese',\n",
       " 'choral',\n",
       " 'christian',\n",
       " 'christmas',\n",
       " 'classical',\n",
       " 'classicmetal',\n",
       " 'club',\n",
       " 'colombian',\n",
       " 'comedy',\n",
       " 'conjazz',\n",
       " 'contemporary',\n",
       " 'country',\n",
       " 'cuban',\n",
       " 'dance',\n",
       " 'dancehall',\n",
       " 'dancepop',\n",
       " 'dark',\n",
       " 'death',\n",
       " 'deep',\n",
       " 'deutschrock',\n",
       " 'deutschspr',\n",
       " 'dirty',\n",
       " 'disco',\n",
       " 'dnb',\n",
       " 'documentary',\n",
       " 'downbeat',\n",
       " 'downtempo',\n",
       " 'drum',\n",
       " 'dub',\n",
       " 'dubstep',\n",
       " 'eastern',\n",
       " 'easy',\n",
       " 'electronic',\n",
       " 'electropop',\n",
       " 'emo',\n",
       " 'entehno',\n",
       " 'epicmetal',\n",
       " 'estrada',\n",
       " 'ethnic',\n",
       " 'eurofolk',\n",
       " 'european',\n",
       " 'experimental',\n",
       " 'extrememetal',\n",
       " 'fado',\n",
       " 'fairytail',\n",
       " 'film',\n",
       " 'fitness',\n",
       " 'flamenco',\n",
       " 'folk',\n",
       " 'folklore',\n",
       " 'folkmetal',\n",
       " 'folkrock',\n",
       " 'folktronica',\n",
       " 'forró',\n",
       " 'frankreich',\n",
       " 'französisch',\n",
       " 'french',\n",
       " 'funk',\n",
       " 'future',\n",
       " 'gangsta',\n",
       " 'garage',\n",
       " 'german',\n",
       " 'ghazal',\n",
       " 'gitarre',\n",
       " 'glitch',\n",
       " 'gospel',\n",
       " 'gothic',\n",
       " 'grime',\n",
       " 'grunge',\n",
       " 'gypsy',\n",
       " 'handsup',\n",
       " \"hard'n'heavy\",\n",
       " 'hardcore',\n",
       " 'hardstyle',\n",
       " 'hardtechno',\n",
       " 'hiphop',\n",
       " 'historisch',\n",
       " 'holiday',\n",
       " 'horror',\n",
       " 'house',\n",
       " 'hymn',\n",
       " 'idm',\n",
       " 'independent',\n",
       " 'indian',\n",
       " 'indie',\n",
       " 'indipop',\n",
       " 'industrial',\n",
       " 'inspirational',\n",
       " 'instrumental',\n",
       " 'international',\n",
       " 'irish',\n",
       " 'jam',\n",
       " 'japanese',\n",
       " 'jazz',\n",
       " 'jewish',\n",
       " 'jpop',\n",
       " 'jungle',\n",
       " 'k-pop',\n",
       " 'karadeniz',\n",
       " 'karaoke',\n",
       " 'kayokyoku',\n",
       " 'korean',\n",
       " 'laiko',\n",
       " 'latin',\n",
       " 'latino',\n",
       " 'leftfield',\n",
       " 'local',\n",
       " 'lounge',\n",
       " 'loungeelectronic',\n",
       " 'lovers',\n",
       " 'malaysian',\n",
       " 'mandopop',\n",
       " 'marschmusik',\n",
       " 'meditative',\n",
       " 'mediterranean',\n",
       " 'melodic',\n",
       " 'metal',\n",
       " 'metalcore',\n",
       " 'mexican',\n",
       " 'middle',\n",
       " 'minimal',\n",
       " 'miscellaneous',\n",
       " 'modern',\n",
       " 'mood',\n",
       " 'mpb',\n",
       " 'muslim',\n",
       " 'native',\n",
       " 'neoklassik',\n",
       " 'neue',\n",
       " 'new',\n",
       " 'newage',\n",
       " 'newwave',\n",
       " 'nu',\n",
       " 'nujazz',\n",
       " 'numetal',\n",
       " 'oceania',\n",
       " 'old',\n",
       " 'opera',\n",
       " 'orchestral',\n",
       " 'other',\n",
       " 'piano',\n",
       " 'podcasts',\n",
       " 'pop',\n",
       " 'popdance',\n",
       " 'popelectronic',\n",
       " 'popeurodance',\n",
       " 'poprussian',\n",
       " 'post',\n",
       " 'posthardcore',\n",
       " 'postrock',\n",
       " 'power',\n",
       " 'progmetal',\n",
       " 'progressive',\n",
       " 'psychedelic',\n",
       " 'punjabi',\n",
       " 'punk',\n",
       " 'quebecois',\n",
       " 'ragga',\n",
       " 'ram',\n",
       " 'rancheras',\n",
       " 'rap',\n",
       " 'rave',\n",
       " 'reggae',\n",
       " 'reggaeton',\n",
       " 'regional',\n",
       " 'relax',\n",
       " 'religious',\n",
       " 'retro',\n",
       " 'rhythm',\n",
       " 'rnb',\n",
       " 'rnr',\n",
       " 'rock',\n",
       " 'rockabilly',\n",
       " 'rockalternative',\n",
       " 'rockindie',\n",
       " 'rockother',\n",
       " 'romance',\n",
       " 'roots',\n",
       " 'ruspop',\n",
       " 'rusrap',\n",
       " 'rusrock',\n",
       " 'russian',\n",
       " 'salsa',\n",
       " 'samba',\n",
       " 'scenic',\n",
       " 'schlager',\n",
       " 'self',\n",
       " 'sertanejo',\n",
       " 'shanson',\n",
       " 'shoegazing',\n",
       " 'showtunes',\n",
       " 'singer',\n",
       " 'ska',\n",
       " 'skarock',\n",
       " 'slow',\n",
       " 'smooth',\n",
       " 'soft',\n",
       " 'soul',\n",
       " 'soulful',\n",
       " 'sound',\n",
       " 'soundtrack',\n",
       " 'southern',\n",
       " 'specialty',\n",
       " 'speech',\n",
       " 'spiritual',\n",
       " 'sport',\n",
       " 'stonerrock',\n",
       " 'surf',\n",
       " 'swing',\n",
       " 'synthpop',\n",
       " 'synthrock',\n",
       " 'sängerportrait',\n",
       " 'tango',\n",
       " 'tanzorchester',\n",
       " 'taraftar',\n",
       " 'tatar',\n",
       " 'tech',\n",
       " 'techno',\n",
       " 'teen',\n",
       " 'thrash',\n",
       " 'top',\n",
       " 'traditional',\n",
       " 'tradjazz',\n",
       " 'trance',\n",
       " 'tribal',\n",
       " 'trip',\n",
       " 'triphop',\n",
       " 'tropical',\n",
       " 'türk',\n",
       " 'türkçe',\n",
       " 'ukrrock',\n",
       " 'unknown',\n",
       " 'urban',\n",
       " 'uzbek',\n",
       " 'variété',\n",
       " 'vi',\n",
       " 'videogame',\n",
       " 'vocal',\n",
       " 'western',\n",
       " 'world',\n",
       " 'worldbeat',\n",
       " 'ïîï',\n",
       " 'электроника']"
      ]
     },
     "metadata": {},
     "output_type": "display_data"
    }
   ],
   "source": [
    "# Проверка на неявные дубликаты\n",
    "#df = df.sort_values(by = 'genre')\n",
    "#df_sorted = df['genre'].unique()\n",
    "#display(df_sorted)\n",
    "\n",
    "display(sorted(df['genre'].unique()))"
   ]
  },
  {
   "cell_type": "markdown",
   "metadata": {
    "id": "jz6a9-7HQUDd"
   },
   "source": [
    "**Выводы**\n",
    "\n",
    "Предобработка обнаружила три проблемы в данных:\n",
    "\n",
    "- нарушения в стиле заголовков,\n",
    "- пропущенные значения,\n",
    "- дубликаты — явные и неявные.\n",
    "\n",
    "Вы исправили заголовки, чтобы упростить работу с таблицей. Без дубликатов исследование станет более точным.\n",
    "\n",
    "Пропущенные значения вы заменили на `'unknown'`. Ещё предстоит увидеть, не повредят ли исследованию пропуски в колонке `genre`.\n",
    "\n",
    "Теперь можно перейти к проверке гипотез. "
   ]
  },
  {
   "cell_type": "markdown",
   "metadata": {
    "id": "WttZHXH0SqKk"
   },
   "source": [
    "## Проверка гипотез"
   ]
  },
  {
   "cell_type": "markdown",
   "metadata": {
    "id": "Im936VVi_Zcu"
   },
   "source": [
    "### Сравнение поведения пользователей двух столиц"
   ]
  },
  {
   "cell_type": "markdown",
   "metadata": {
    "id": "nwt_MuaL_Zcu"
   },
   "source": [
    "Первая гипотеза утверждает, что пользователи по-разному слушают музыку в Москве и Санкт-Петербурге. Проверьте это предположение по данным о трёх днях недели — понедельнике, среде и пятнице. Для этого:\n",
    "\n",
    "* Разделите пользователей Москвы и Санкт-Петербурга\n",
    "* Сравните, сколько треков послушала каждая группа пользователей в понедельник, среду и пятницу.\n"
   ]
  },
  {
   "cell_type": "markdown",
   "metadata": {
    "id": "8Dw_YMmT_Zcu"
   },
   "source": [
    "Для тренировки сначала выполните каждый из расчётов по отдельности. \n",
    "\n",
    "Оцените активность пользователей в каждом городе. Сгруппируйте данные по городу и посчитайте прослушивания в каждой группе.\n",
    "\n"
   ]
  },
  {
   "cell_type": "code",
   "execution_count": 206,
   "metadata": {
    "id": "0_Qs96oh_Zcu"
   },
   "outputs": [
    {
     "data": {
      "text/plain": [
       "city\n",
       "Moscow              42741\n",
       "Saint-Petersburg    18512\n",
       "Name: user_id, dtype: int64"
      ]
     },
     "execution_count": 206,
     "metadata": {},
     "output_type": "execute_result"
    }
   ],
   "source": [
    "# Подсчёт прослушиваний в каждом городе\n",
    "df.groupby('city')['user_id'].count()"
   ]
  },
  {
   "cell_type": "markdown",
   "metadata": {
    "id": "dzli3w8o_Zcu"
   },
   "source": [
    "В Москве прослушиваний больше, чем в Петербурге. Из этого не следует, что московские пользователи чаще слушают музыку. Просто самих пользователей в Москве больше.\n",
    "\n",
    "Теперь сгруппируйте данные по дню недели и подсчитайте прослушивания в понедельник, среду и пятницу. Учтите, что в данных есть информация только о прослушиваниях только за эти дни.\n"
   ]
  },
  {
   "cell_type": "code",
   "execution_count": 207,
   "metadata": {
    "id": "uZMKjiJz_Zcu"
   },
   "outputs": [
    {
     "data": {
      "text/plain": [
       "day\n",
       "Friday       21840\n",
       "Monday       21354\n",
       "Wednesday    18059\n",
       "Name: user_id, dtype: int64"
      ]
     },
     "execution_count": 207,
     "metadata": {},
     "output_type": "execute_result"
    }
   ],
   "source": [
    "# Подсчёт прослушиваний в каждый из трёх дней\n",
    "df.groupby('day')['user_id'].count()"
   ]
  },
  {
   "cell_type": "markdown",
   "metadata": {
    "id": "cC2tNrlL_Zcu"
   },
   "source": [
    "В среднем пользователи из двух городов менее активны по средам. Но картина может измениться, если рассмотреть каждый город в отдельности."
   ]
  },
  {
   "cell_type": "markdown",
   "metadata": {
    "id": "POzs8bGa_Zcu"
   },
   "source": [
    "Вы видели, как работает группировка по городу и по дням недели. Теперь напишите функцию, которая объединит два эти расчёта.\n",
    "\n",
    "Создайте функцию `number_tracks()`, которая посчитает прослушивания для заданного дня и города. Ей понадобятся два параметра:\n",
    "* день недели,\n",
    "* название города.\n",
    "\n",
    "В функции сохраните в переменную строки исходной таблицы, у которых значение:\n",
    "  * в колонке `day` равно параметру `day`,\n",
    "  * в колонке `city` равно параметру `city`.\n",
    "\n",
    "Для этого примените последовательную фильтрацию с логической индексацией.\n",
    "\n",
    "Затем посчитайте значения в столбце `user_id` получившейся таблицы. Результат сохраните в новую переменную. Верните эту переменную из функции."
   ]
  },
  {
   "cell_type": "code",
   "execution_count": 227,
   "metadata": {
    "id": "Nz3GdQB1_Zcu"
   },
   "outputs": [],
   "source": [
    "# <создание функции number_tracks()>\n",
    "# Объявляется функция с двумя параметрами: day, city.\n",
    "def number_tracks(day, city):\n",
    "# В переменной track_list сохраняются те строки таблицы df, для которых \n",
    "    track_list = df[df['day'] == day]\n",
    "# значение в столбце 'day' равно параметру day и одновременно значение\n",
    "    \n",
    "# в столбце 'city' равно параметру city (используйте последовательную фильтрацию\n",
    "# с помощью логической индексации).\n",
    "    track_list = track_list[track_list['city'] == city]\n",
    "# В переменной track_list_count сохраняется число значений столбца 'user_id',\n",
    "    track_list_count = track_list['user_id'].count()\n",
    "# рассчитанное методом count() для таблицы track_list.\n",
    "# Функция возвращает число - значение track_list_count.\n",
    "    return track_list_count\n",
    "\n",
    "# Функция для подсчёта прослушиваний для конкретного города и дня.\n",
    "# С помощью последовательной фильтрации с логической индексацией она \n",
    "# сначала получит из исходной таблицы строки с нужным днём,\n",
    "# затем из результата отфильтрует строки с нужным городом,\n",
    "# методом count() посчитает количество значений в колонке user_id. \n",
    "# Это количество функция вернёт в качестве результата"
   ]
  },
  {
   "cell_type": "markdown",
   "metadata": {
    "id": "ytf7xFrFJQ2r"
   },
   "source": [
    "Вызовите `number_tracks()` шесть раз, меняя значение параметров — так, чтобы получить данные для каждого города в каждый из трёх дней."
   ]
  },
  {
   "cell_type": "code",
   "execution_count": 228,
   "metadata": {
    "id": "rJcRATNQ_Zcu"
   },
   "outputs": [
    {
     "name": "stdout",
     "output_type": "stream",
     "text": [
      "15740\n"
     ]
    }
   ],
   "source": [
    "# количество прослушиваний в Москве по понедельникам\n",
    "print(number_tracks('Monday', 'Moscow'))"
   ]
  },
  {
   "cell_type": "code",
   "execution_count": 229,
   "metadata": {
    "id": "hq_ncZ5T_Zcu",
    "scrolled": true
   },
   "outputs": [
    {
     "name": "stdout",
     "output_type": "stream",
     "text": [
      "5614\n"
     ]
    }
   ],
   "source": [
    "# количество прослушиваний в Санкт-Петербурге по понедельникам\n",
    "print(number_tracks('Monday', 'Saint-Petersburg'))"
   ]
  },
  {
   "cell_type": "code",
   "execution_count": 230,
   "metadata": {
    "id": "_NTy2VPU_Zcu"
   },
   "outputs": [
    {
     "name": "stdout",
     "output_type": "stream",
     "text": [
      "11056\n"
     ]
    }
   ],
   "source": [
    "# количество прослушиваний в Москве по средам\n",
    "print(number_tracks('Wednesday', 'Moscow'))"
   ]
  },
  {
   "cell_type": "code",
   "execution_count": 231,
   "metadata": {
    "id": "j2y3TAwo_Zcu"
   },
   "outputs": [
    {
     "name": "stdout",
     "output_type": "stream",
     "text": [
      "7003\n"
     ]
    }
   ],
   "source": [
    "# количество прослушиваний в Санкт-Петербурге по средам\n",
    "print(number_tracks('Wednesday', 'Saint-Petersburg'))"
   ]
  },
  {
   "cell_type": "code",
   "execution_count": 232,
   "metadata": {
    "id": "vYDw5u_K_Zcu"
   },
   "outputs": [
    {
     "name": "stdout",
     "output_type": "stream",
     "text": [
      "15945\n"
     ]
    }
   ],
   "source": [
    "# количество прослушиваний в Москве по пятницам\n",
    "print(number_tracks('Friday', 'Moscow'))"
   ]
  },
  {
   "cell_type": "code",
   "execution_count": 233,
   "metadata": {
    "id": "8_yzFtW3_Zcu"
   },
   "outputs": [
    {
     "name": "stdout",
     "output_type": "stream",
     "text": [
      "5895\n"
     ]
    }
   ],
   "source": [
    "# количество прослушиваний в Санкт-Петербурге по пятницам\n",
    "print(number_tracks('Friday', 'Saint-Petersburg'))"
   ]
  },
  {
   "cell_type": "markdown",
   "metadata": {
    "id": "7QXffbO-_Zcu"
   },
   "source": [
    "Создайте c помощью конструктора `pd.DataFrame` таблицу, где\n",
    "* названия колонок — `['city', 'monday', 'wednesday', 'friday']`;\n",
    "* данные — результаты, которые вы получили с помощью `number_tracks`."
   ]
  },
  {
   "cell_type": "code",
   "execution_count": 234,
   "metadata": {
    "id": "APAcLpOr_Zcu"
   },
   "outputs": [
    {
     "data": {
      "text/html": [
       "<div>\n",
       "<style scoped>\n",
       "    .dataframe tbody tr th:only-of-type {\n",
       "        vertical-align: middle;\n",
       "    }\n",
       "\n",
       "    .dataframe tbody tr th {\n",
       "        vertical-align: top;\n",
       "    }\n",
       "\n",
       "    .dataframe thead th {\n",
       "        text-align: right;\n",
       "    }\n",
       "</style>\n",
       "<table border=\"1\" class=\"dataframe\">\n",
       "  <thead>\n",
       "    <tr style=\"text-align: right;\">\n",
       "      <th></th>\n",
       "      <th>city</th>\n",
       "      <th>monday</th>\n",
       "      <th>wednesday</th>\n",
       "      <th>friday</th>\n",
       "    </tr>\n",
       "  </thead>\n",
       "  <tbody>\n",
       "    <tr>\n",
       "      <td>0</td>\n",
       "      <td>Saint-Petersburg</td>\n",
       "      <td>5614</td>\n",
       "      <td>7003</td>\n",
       "      <td>5895</td>\n",
       "    </tr>\n",
       "    <tr>\n",
       "      <td>1</td>\n",
       "      <td>Moscow</td>\n",
       "      <td>15740</td>\n",
       "      <td>11056</td>\n",
       "      <td>15945</td>\n",
       "    </tr>\n",
       "  </tbody>\n",
       "</table>\n",
       "</div>"
      ],
      "text/plain": [
       "               city  monday  wednesday  friday\n",
       "0  Saint-Petersburg    5614       7003    5895\n",
       "1            Moscow   15740      11056   15945"
      ]
     },
     "metadata": {},
     "output_type": "display_data"
    }
   ],
   "source": [
    "# Таблица с результатами\n",
    "column = ['city', 'monday', 'wednesday', 'friday']\n",
    "music = [\n",
    "    ['Saint-Petersburg', number_tracks('Monday', 'Saint-Petersburg'), number_tracks('Wednesday', 'Saint-Petersburg'), number_tracks('Friday', 'Saint-Petersburg')],\n",
    "    ['Moscow', number_tracks('Monday', 'Moscow'), number_tracks('Wednesday', 'Moscow'), number_tracks('Friday', 'Moscow')]\n",
    "]\n",
    "daily_activity = pd.DataFrame(data= music,columns= column)\n",
    "display(daily_activity)"
   ]
  },
  {
   "cell_type": "markdown",
   "metadata": {
    "id": "-EgPIHYu_Zcu"
   },
   "source": [
    "**Выводы**\n",
    "\n",
    "Данные показывают разницу поведения пользователей:\n",
    "\n",
    "- В Москве пик прослушиваний приходится на понедельник и пятницу, а в среду заметен спад.\n",
    "- В Петербурге, наоборот, больше слушают музыку по средам. Активность в понедельник и пятницу здесь почти в равной мере уступает среде.\n",
    "\n",
    "Значит, данные говорят в пользу первой гипотезы."
   ]
  },
  {
   "cell_type": "markdown",
   "metadata": {
    "id": "atZAxtq4_Zcu"
   },
   "source": [
    "### Музыка в начале и в конце недели"
   ]
  },
  {
   "cell_type": "markdown",
   "metadata": {
    "id": "eXrQqXFH_Zcu"
   },
   "source": [
    "Согласно второй гипотезе, утром в понедельник в Москве преобладают одни жанры, а в Петербурге — другие. Так же и вечером пятницы преобладают разные жанры — в зависимости от города."
   ]
  },
  {
   "cell_type": "markdown",
   "metadata": {
    "id": "S8UcW6Hw_Zcu"
   },
   "source": [
    "Сохраните таблицы с данными в две переменные:\n",
    "* по Москве — в `moscow_general`;\n",
    "* по Санкт-Петербургу — в `spb_general`."
   ]
  },
  {
   "cell_type": "code",
   "execution_count": 235,
   "metadata": {
    "id": "qeaFfM_P_Zcu"
   },
   "outputs": [],
   "source": [
    "# получение таблицы moscow_general из тех строк таблицы df, \n",
    "# для которых значение в столбце 'city' равно 'Moscow'\n",
    "\n",
    "moscow_general = df[df['city']== 'Moscow']\n",
    "#display(moscow_general)"
   ]
  },
  {
   "cell_type": "code",
   "execution_count": 236,
   "metadata": {
    "id": "ORaVRKto_Zcu"
   },
   "outputs": [],
   "source": [
    "# получение таблицы spb_general из тех строк таблицы df,\n",
    "# для которых значение в столбце 'city' равно 'Saint-Petersburg'\n",
    "spb_general = df[df['city']== 'Saint-Petersburg']\n",
    "#display(spb_general)"
   ]
  },
  {
   "cell_type": "markdown",
   "metadata": {
    "id": "MEJV-CX2_Zcu"
   },
   "source": [
    "Создайте функцию `genre_weekday()` с четырьмя параметрами:\n",
    "* таблица (датафрейм) с данными,\n",
    "* день недели,\n",
    "* начальная временная метка в формате 'hh:mm', \n",
    "* последняя временная метка в формате 'hh:mm'.\n",
    "\n",
    "Функция должна вернуть информацию о топ-10 жанров тех треков, которые прослушивали в указанный день, в промежутке между двумя отметками времени."
   ]
  },
  {
   "cell_type": "code",
   "execution_count": 243,
   "metadata": {
    "id": "laJT9BYl_Zcu"
   },
   "outputs": [],
   "source": [
    "# Объявление функции genre_weekday() с параметрами table, day, time1, time2,\n",
    "def genre_weekday(table, day, time1, time2):\n",
    "# которая возвращает информацию о самых популярных жанрах в указанный день в\n",
    "# заданное время:\n",
    "# 1) в переменную genre_df сохраняются те строки переданного датафрейма table, для\n",
    "#    которых одновременно:\n",
    "#    - значение в столбце day равно значению аргумента day\n",
    "    genre_df = table[table['day'] == day]\n",
    "#    - значение в столбце time больше значения аргумента time1\n",
    "    genre_df = genre_df[genre_df['time'] > time1]\n",
    "#    - значение в столбце time меньше значения аргумента time2\n",
    "    genre_df = genre_df[genre_df['time'] < time2]\n",
    "#    Используйте последовательную фильтрацию с помощью логической индексации.\n",
    "# 2) сгруппировать датафрейм genre_df по столбцу genre, взять один из его\n",
    "#    столбцов и посчитать методом count() количество записей для каждого из\n",
    "#    присутствующих жанров, получившийся Series записать в переменную\n",
    "#    genre_df_count\n",
    "    #-------> genre_df.group(by = 'genre')['genre']#.count()\n",
    "    genre_df_count = genre_df.groupby('genre')['user_id'].count()\n",
    "# 3) отсортировать genre_df_count по убыванию встречаемости и сохранить\n",
    "#    в переменную genre_df_sorted\n",
    "    genre_df_sorted = genre_df_count.sort_values(ascending = False)\n",
    "# 4) вернуть Series из 10 первых значений genre_df_sorted, это будут топ-10\n",
    "#    популярных жанров (в указанный день, в заданное время)\n",
    "    genre_df_sorted = genre_df_sorted.head(10)\n",
    "    \n",
    "    return genre_df_sorted"
   ]
  },
  {
   "cell_type": "markdown",
   "metadata": {
    "id": "la2s2_PF_Zcu"
   },
   "source": [
    "Cравните результаты функции `genre_weekday()` для Москвы и Санкт-Петербурга в понедельник утром (с 7:00 до 11:00) и в пятницу вечером (с 17:00 до 23:00):"
   ]
  },
  {
   "cell_type": "code",
   "execution_count": 244,
   "metadata": {
    "id": "yz7itPUQ_Zcu"
   },
   "outputs": [
    {
     "data": {
      "text/plain": [
       "genre\n",
       "pop            781\n",
       "dance          549\n",
       "electronic     480\n",
       "rock           474\n",
       "hiphop         286\n",
       "ruspop         186\n",
       "world          181\n",
       "rusrap         175\n",
       "alternative    164\n",
       "unknown        161\n",
       "Name: user_id, dtype: int64"
      ]
     },
     "execution_count": 244,
     "metadata": {},
     "output_type": "execute_result"
    }
   ],
   "source": [
    "# вызов функции для утра понедельника в Москве (вместо df — таблица moscow_general)\n",
    "# объекты, хранящие время, являются строками и сравниваются как строки\n",
    "# пример вызова: genre_weekday(moscow_general, 'Monday', '07:00', '11:00')\n",
    "\n",
    "genre_weekday(moscow_general, 'Monday', '07:00', '11:00')"
   ]
  },
  {
   "cell_type": "code",
   "execution_count": 245,
   "metadata": {
    "id": "kwUcHPdy_Zcu"
   },
   "outputs": [
    {
     "data": {
      "text/plain": [
       "genre\n",
       "pop            218\n",
       "dance          182\n",
       "rock           162\n",
       "electronic     147\n",
       "hiphop          80\n",
       "ruspop          64\n",
       "alternative     58\n",
       "rusrap          55\n",
       "jazz            44\n",
       "classical       40\n",
       "Name: user_id, dtype: int64"
      ]
     },
     "execution_count": 245,
     "metadata": {},
     "output_type": "execute_result"
    }
   ],
   "source": [
    "# вызов функции для утра понедельника в Петербурге (вместо df — таблица spb_general)\n",
    "genre_weekday(spb_general, 'Monday', '07:00', '11:00')"
   ]
  },
  {
   "cell_type": "code",
   "execution_count": 246,
   "metadata": {
    "id": "EzXVRE1o_Zcu"
   },
   "outputs": [
    {
     "data": {
      "text/plain": [
       "genre\n",
       "pop            713\n",
       "rock           517\n",
       "dance          495\n",
       "electronic     482\n",
       "hiphop         273\n",
       "world          208\n",
       "ruspop         170\n",
       "alternative    163\n",
       "classical      163\n",
       "rusrap         142\n",
       "Name: user_id, dtype: int64"
      ]
     },
     "execution_count": 246,
     "metadata": {},
     "output_type": "execute_result"
    }
   ],
   "source": [
    "# вызов функции для вечера пятницы в Москве\n",
    "genre_weekday(moscow_general, 'Friday', '17:00', '23:00')"
   ]
  },
  {
   "cell_type": "code",
   "execution_count": 247,
   "metadata": {
    "id": "JZaEKu5v_Zcu"
   },
   "outputs": [
    {
     "data": {
      "text/plain": [
       "genre\n",
       "pop            256\n",
       "rock           216\n",
       "electronic     216\n",
       "dance          210\n",
       "hiphop          97\n",
       "alternative     63\n",
       "jazz            61\n",
       "classical       60\n",
       "rusrap          59\n",
       "world           54\n",
       "Name: user_id, dtype: int64"
      ]
     },
     "execution_count": 247,
     "metadata": {},
     "output_type": "execute_result"
    }
   ],
   "source": [
    "# вызов функции для вечера пятницы в Петербурге\n",
    "genre_weekday(spb_general, 'Friday', '17:00', '23:00')"
   ]
  },
  {
   "cell_type": "markdown",
   "metadata": {
    "id": "wrCe4MNX_Zcu"
   },
   "source": [
    "**Выводы**\n",
    "\n",
    "Если сравнить топ-10 жанров в понедельник утром, можно сделать такие выводы:\n",
    "\n",
    "1. В Москве и Петербурге слушают похожую музыку. Единственное отличие — в московский рейтинг вошёл жанр “world”, а в петербургский — джаз и классика.\n",
    "\n",
    "2. В Москве пропущенных значений оказалось так много, что значение `'unknown'` заняло десятое место среди самых популярных жанров. Значит, пропущенные значения занимают существенную долю в данных и угрожают достоверности исследования.\n",
    "\n",
    "Вечер пятницы не меняет эту картину. Некоторые жанры поднимаются немного выше, другие спускаются, но в целом топ-10 остаётся тем же самым.\n",
    "\n",
    "Таким образом, вторая гипотеза подтвердилась лишь частично:\n",
    "* Пользователи слушают похожую музыку в начале недели и в конце.\n",
    "* Разница между Москвой и Петербургом не слишком выражена. В Москве чаще слушают русскую популярную музыку, в Петербурге — джаз.\n",
    "\n",
    "Однако пропуски в данных ставят под сомнение этот результат. В Москве их так много, что рейтинг топ-10 мог бы выглядеть иначе, если бы не утерянные  данные о жанрах."
   ]
  },
  {
   "cell_type": "markdown",
   "metadata": {
    "id": "JolODAqr_Zcu"
   },
   "source": [
    "### Жанровые предпочтения в Москве и Петербурге\n",
    "\n",
    "Гипотеза: Петербург — столица рэпа, музыку этого жанра там слушают чаще, чем в Москве.  А Москва — город контрастов, в котором, тем не менее, преобладает поп-музыка."
   ]
  },
  {
   "cell_type": "markdown",
   "metadata": {
    "id": "DlegSvaT_Zcu"
   },
   "source": [
    "Сгруппируйте таблицу `moscow_general` по жанру и посчитайте прослушивания треков каждого жанра методом `count()`. Затем отсортируйте результат в порядке убывания и сохраните его в таблице `moscow_genres`."
   ]
  },
  {
   "cell_type": "code",
   "execution_count": 248,
   "metadata": {
    "id": "r19lIPke_Zcu"
   },
   "outputs": [],
   "source": [
    "# одной строкой: группировка таблицы moscow_general по столбцу 'genre', \n",
    "# подсчёт числа значений 'genre' в этой группировке методом count(), \n",
    "# сортировка получившегося Series в порядке убывания и сохранение в moscow_genres\n",
    "\n",
    "moscow_genres = moscow_general.groupby('genre')['genre'].count().sort_values(ascending = False)\n"
   ]
  },
  {
   "cell_type": "markdown",
   "metadata": {
    "id": "6kMuomxTiIr8"
   },
   "source": [
    "Выведите на экран первые десять строк `moscow_genres`:"
   ]
  },
  {
   "cell_type": "code",
   "execution_count": 249,
   "metadata": {
    "id": "WhCSooF8_Zcv"
   },
   "outputs": [
    {
     "data": {
      "text/plain": [
       "genre\n",
       "pop            5892\n",
       "dance          4435\n",
       "rock           3965\n",
       "electronic     3786\n",
       "hiphop         2096\n",
       "classical      1616\n",
       "world          1432\n",
       "alternative    1379\n",
       "ruspop         1372\n",
       "rusrap         1161\n",
       "Name: genre, dtype: int64"
      ]
     },
     "metadata": {},
     "output_type": "display_data"
    }
   ],
   "source": [
    "# просмотр первых 10 строк moscow_genres\n",
    "display(moscow_genres.head(10))"
   ]
  },
  {
   "cell_type": "markdown",
   "metadata": {
    "id": "cnPG2vnN_Zcv"
   },
   "source": [
    "Теперь повторите то же и для Петербурга.\n",
    "\n",
    "Сгруппируйте таблицу `spb_general` по жанру. Посчитайте прослушивания треков каждого жанра. Результат отсортируйте в порядке убывания и сохраните в таблице `spb_genres`:\n"
   ]
  },
  {
   "cell_type": "code",
   "execution_count": 250,
   "metadata": {
    "id": "gluLIpE7_Zcv"
   },
   "outputs": [],
   "source": [
    "# одной строкой: группировка таблицы spb_general по столбцу 'genre', \n",
    "# подсчёт числа значений 'genre' в этой группировке методом count(), \n",
    "# сортировка получившегося Series в порядке убывания и сохранение в spb_genres\n",
    "spb_genres = spb_general.groupby('genre')['genre'].count().sort_values(ascending = False)"
   ]
  },
  {
   "cell_type": "markdown",
   "metadata": {
    "id": "5Doha_ODgyQ8"
   },
   "source": [
    "Выведите на экран первые десять строк `spb_genres`:"
   ]
  },
  {
   "cell_type": "code",
   "execution_count": 251,
   "metadata": {
    "id": "uaGJHjVU_Zcv"
   },
   "outputs": [
    {
     "data": {
      "text/plain": [
       "genre\n",
       "pop            2431\n",
       "dance          1932\n",
       "rock           1879\n",
       "electronic     1736\n",
       "hiphop          960\n",
       "alternative     649\n",
       "classical       646\n",
       "rusrap          564\n",
       "ruspop          538\n",
       "world           515\n",
       "Name: genre, dtype: int64"
      ]
     },
     "metadata": {},
     "output_type": "display_data"
    }
   ],
   "source": [
    "# просмотр первых 10 строк spb_genres\n",
    "display(spb_genres.head(10))"
   ]
  },
  {
   "cell_type": "markdown",
   "metadata": {
    "id": "RY51YJYu_Zcv"
   },
   "source": [
    "**Выводы**"
   ]
  },
  {
   "cell_type": "markdown",
   "metadata": {
    "id": "nVhnJEm__Zcv"
   },
   "source": [
    "Гипотеза частично подтвердилась:\n",
    "* Поп-музыка — самый популярный жанр в Москве, как и предполагала гипотеза. Более того, в топ-10 жанров встречается близкий жанр — русская популярная музыка.\n",
    "* Вопреки ожиданиям, рэп одинаково популярен в Москве и Петербурге. \n",
    "* Замечание о жанрах, не влияющих на общее исследование подтвердилось."
   ]
  },
  {
   "cell_type": "markdown",
   "metadata": {
    "id": "ykKQ0N65_Zcv"
   },
   "source": [
    "## Итоги исследования"
   ]
  },
  {
   "cell_type": "markdown",
   "metadata": {
    "id": "tjUwbHb3_Zcv"
   },
   "source": [
    "Вы проверили три гипотезы и установили:\n",
    "\n",
    "1. День недели по-разному влияет на активность пользователей в Москве и Петербурге. \n",
    "\n",
    "Первая гипотеза полностью подтвердилась.\n",
    "\n",
    "2. Музыкальные предпочтения не сильно меняются в течение недели — будь то Москва или Петербург. Небольшие различия заметны в начале недели, по понедельникам:\n",
    "* в Москве слушают музыку жанра “world”,\n",
    "* в Петербурге — джаз и классику.\n",
    "\n",
    "Таким образом, вторая гипотеза подтвердилась лишь отчасти. Этот результат мог оказаться иным, если бы не пропуски в данных.\n",
    "\n",
    "3. Во вкусах пользователей Москвы и Петербурга больше общего чем различий. Вопреки ожиданиям, предпочтения жанров в Петербурге напоминают московские.\n",
    "\n",
    "Третья гипотеза не подтвердилась. Если различия в предпочтениях и существуют, на основной массе пользователей они незаметны.\n",
    "\n",
    "**На практике исследования содержат проверки статистических гипотез.**\n",
    "Из данных одного сервиса не всегда можно сделать вывод о всех жителях города.\n",
    "Проверки статистических гипотез покажут, насколько они достоверны, исходя из имеющихся данных. \n",
    "С методами проверок гипотез вы ещё познакомитесь в следующих темах."
   ]
  },
  {
   "cell_type": "code",
   "execution_count": null,
   "metadata": {},
   "outputs": [],
   "source": []
  }
 ],
 "metadata": {
  "ExecuteTimeLog": [
   {
    "duration": 770,
    "start_time": "2021-12-28T20:52:23.854Z"
   },
   {
    "duration": 2308,
    "start_time": "2021-12-28T20:54:54.710Z"
   },
   {
    "duration": 2124,
    "start_time": "2021-12-28T21:06:20.600Z"
   },
   {
    "duration": 389,
    "start_time": "2021-12-28T21:06:46.124Z"
   },
   {
    "duration": 206,
    "start_time": "2021-12-28T21:07:53.895Z"
   },
   {
    "duration": 221,
    "start_time": "2021-12-28T21:08:00.323Z"
   },
   {
    "duration": 196,
    "start_time": "2021-12-28T21:08:25.811Z"
   },
   {
    "duration": 24,
    "start_time": "2021-12-28T21:08:48.560Z"
   },
   {
    "duration": 15,
    "start_time": "2021-12-28T21:08:52.980Z"
   },
   {
    "duration": 12,
    "start_time": "2021-12-28T21:09:25.376Z"
   },
   {
    "duration": 32,
    "start_time": "2021-12-28T21:09:42.378Z"
   },
   {
    "duration": 51,
    "start_time": "2021-12-28T21:15:00.100Z"
   },
   {
    "duration": 5,
    "start_time": "2021-12-28T21:22:18.798Z"
   },
   {
    "duration": 26,
    "start_time": "2021-12-28T21:24:15.605Z"
   },
   {
    "duration": 5,
    "start_time": "2021-12-28T21:24:27.920Z"
   },
   {
    "duration": 30,
    "start_time": "2021-12-28T21:25:10.963Z"
   },
   {
    "duration": 24,
    "start_time": "2021-12-28T21:32:11.286Z"
   },
   {
    "duration": 31,
    "start_time": "2021-12-28T21:32:23.895Z"
   },
   {
    "duration": 84,
    "start_time": "2021-12-28T21:33:47.343Z"
   },
   {
    "duration": 88,
    "start_time": "2021-12-28T21:34:12.835Z"
   },
   {
    "duration": 74,
    "start_time": "2021-12-28T21:34:20.590Z"
   },
   {
    "duration": 310,
    "start_time": "2021-12-28T21:37:02.341Z"
   },
   {
    "duration": 9,
    "start_time": "2021-12-28T21:37:21.575Z"
   },
   {
    "duration": 9,
    "start_time": "2021-12-28T21:37:32.166Z"
   },
   {
    "duration": 9,
    "start_time": "2021-12-28T21:37:42.484Z"
   },
   {
    "duration": 289,
    "start_time": "2021-12-28T21:38:04.653Z"
   },
   {
    "duration": 313,
    "start_time": "2021-12-28T21:39:10.335Z"
   },
   {
    "duration": 4282,
    "start_time": "2021-12-28T21:40:18.951Z"
   },
   {
    "duration": -62,
    "start_time": "2021-12-28T21:40:28.364Z"
   },
   {
    "duration": 319,
    "start_time": "2021-12-28T21:41:23.965Z"
   },
   {
    "duration": 311,
    "start_time": "2021-12-28T21:42:51.217Z"
   },
   {
    "duration": 4363,
    "start_time": "2021-12-28T21:42:55.830Z"
   },
   {
    "duration": 4161,
    "start_time": "2021-12-28T21:43:05.988Z"
   },
   {
    "duration": 4114,
    "start_time": "2021-12-28T21:53:31.309Z"
   },
   {
    "duration": 3577,
    "start_time": "2021-12-28T21:53:44.141Z"
   },
   {
    "duration": 4015,
    "start_time": "2021-12-28T21:53:58.365Z"
   },
   {
    "duration": 358,
    "start_time": "2021-12-28T21:56:35.723Z"
   },
   {
    "duration": 294,
    "start_time": "2021-12-28T21:57:57.603Z"
   },
   {
    "duration": 3998,
    "start_time": "2021-12-28T21:58:03.820Z"
   },
   {
    "duration": 3639,
    "start_time": "2021-12-28T21:58:43.470Z"
   },
   {
    "duration": 3654,
    "start_time": "2021-12-28T21:58:59.814Z"
   },
   {
    "duration": 3643,
    "start_time": "2021-12-28T21:59:25.099Z"
   },
   {
    "duration": 4618,
    "start_time": "2021-12-28T21:59:52.719Z"
   },
   {
    "duration": 3776,
    "start_time": "2021-12-28T22:01:00.300Z"
   },
   {
    "duration": 5634,
    "start_time": "2021-12-28T22:05:54.283Z"
   },
   {
    "duration": 3760,
    "start_time": "2021-12-28T22:06:25.543Z"
   },
   {
    "duration": 4488,
    "start_time": "2021-12-28T22:34:02.679Z"
   },
   {
    "duration": 4154,
    "start_time": "2021-12-28T22:34:12.497Z"
   },
   {
    "duration": 3840,
    "start_time": "2021-12-28T22:34:37.768Z"
   },
   {
    "duration": 4112,
    "start_time": "2021-12-28T22:34:48.003Z"
   },
   {
    "duration": 3846,
    "start_time": "2021-12-28T22:35:04.727Z"
   },
   {
    "duration": 3679,
    "start_time": "2021-12-28T22:35:23.893Z"
   },
   {
    "duration": 375,
    "start_time": "2021-12-29T09:52:19.434Z"
   },
   {
    "duration": 278,
    "start_time": "2021-12-29T09:52:40.012Z"
   },
   {
    "duration": 839,
    "start_time": "2021-12-29T09:57:20.509Z"
   },
   {
    "duration": 258,
    "start_time": "2021-12-29T09:57:21.350Z"
   },
   {
    "duration": 37,
    "start_time": "2021-12-29T09:57:21.616Z"
   },
   {
    "duration": 32,
    "start_time": "2021-12-29T09:57:21.657Z"
   },
   {
    "duration": 32,
    "start_time": "2021-12-29T09:57:21.691Z"
   },
   {
    "duration": 32,
    "start_time": "2021-12-29T09:57:21.726Z"
   },
   {
    "duration": 8,
    "start_time": "2021-12-29T09:57:21.761Z"
   },
   {
    "duration": 74,
    "start_time": "2021-12-29T09:57:21.772Z"
   },
   {
    "duration": 22,
    "start_time": "2021-12-29T09:57:21.849Z"
   },
   {
    "duration": 63,
    "start_time": "2021-12-29T09:57:21.873Z"
   },
   {
    "duration": 96,
    "start_time": "2021-12-29T09:57:21.938Z"
   },
   {
    "duration": 123,
    "start_time": "2021-12-29T09:57:22.038Z"
   },
   {
    "duration": 95,
    "start_time": "2021-12-29T09:57:22.164Z"
   },
   {
    "duration": 8,
    "start_time": "2021-12-29T09:57:26.068Z"
   },
   {
    "duration": 10,
    "start_time": "2021-12-29T09:57:30.072Z"
   },
   {
    "duration": 454,
    "start_time": "2021-12-29T10:22:33.772Z"
   },
   {
    "duration": 87,
    "start_time": "2021-12-29T10:22:53.791Z"
   },
   {
    "duration": 142,
    "start_time": "2021-12-29T10:23:16.381Z"
   },
   {
    "duration": 11,
    "start_time": "2021-12-29T10:26:51.328Z"
   },
   {
    "duration": 11,
    "start_time": "2021-12-29T10:27:07.338Z"
   },
   {
    "duration": 9,
    "start_time": "2021-12-29T10:27:42.942Z"
   },
   {
    "duration": 9,
    "start_time": "2021-12-29T10:27:47.282Z"
   },
   {
    "duration": 12,
    "start_time": "2021-12-29T10:28:49.684Z"
   },
   {
    "duration": 12,
    "start_time": "2021-12-29T10:28:57.918Z"
   },
   {
    "duration": 11,
    "start_time": "2021-12-29T10:29:50.266Z"
   },
   {
    "duration": 535,
    "start_time": "2021-12-29T10:30:01.371Z"
   },
   {
    "duration": 10,
    "start_time": "2021-12-29T10:30:30.155Z"
   },
   {
    "duration": 92,
    "start_time": "2021-12-29T10:31:16.578Z"
   },
   {
    "duration": 57,
    "start_time": "2021-12-29T10:31:45.940Z"
   },
   {
    "duration": 73,
    "start_time": "2021-12-29T10:33:09.197Z"
   },
   {
    "duration": 4,
    "start_time": "2021-12-29T10:46:32.307Z"
   },
   {
    "duration": 31,
    "start_time": "2021-12-29T10:49:56.412Z"
   },
   {
    "duration": 87,
    "start_time": "2021-12-29T10:50:10.401Z"
   },
   {
    "duration": 275,
    "start_time": "2021-12-29T10:58:54.913Z"
   },
   {
    "duration": 297,
    "start_time": "2021-12-29T10:59:03.996Z"
   },
   {
    "duration": 77,
    "start_time": "2021-12-29T10:59:24.930Z"
   },
   {
    "duration": 18,
    "start_time": "2021-12-29T10:59:55.497Z"
   },
   {
    "duration": 20,
    "start_time": "2021-12-29T11:00:06.290Z"
   },
   {
    "duration": 54,
    "start_time": "2021-12-29T11:02:38.834Z"
   },
   {
    "duration": 20,
    "start_time": "2021-12-29T11:02:52.337Z"
   },
   {
    "duration": 17,
    "start_time": "2021-12-29T11:03:00.538Z"
   },
   {
    "duration": 6,
    "start_time": "2021-12-29T11:12:09.278Z"
   },
   {
    "duration": 292,
    "start_time": "2021-12-29T11:13:42.013Z"
   },
   {
    "duration": 314,
    "start_time": "2021-12-29T11:14:36.942Z"
   },
   {
    "duration": -340,
    "start_time": "2021-12-29T11:14:49.585Z"
   },
   {
    "duration": -94,
    "start_time": "2021-12-29T11:14:59.002Z"
   },
   {
    "duration": 9,
    "start_time": "2021-12-29T11:16:14.541Z"
   },
   {
    "duration": 31,
    "start_time": "2021-12-29T11:16:18.792Z"
   },
   {
    "duration": 8,
    "start_time": "2021-12-29T11:16:34.381Z"
   },
   {
    "duration": 4243,
    "start_time": "2021-12-29T11:16:36.610Z"
   },
   {
    "duration": 7,
    "start_time": "2021-12-29T11:16:46.439Z"
   },
   {
    "duration": 23,
    "start_time": "2021-12-29T11:16:48.578Z"
   },
   {
    "duration": 20,
    "start_time": "2021-12-29T11:18:19.799Z"
   },
   {
    "duration": 21,
    "start_time": "2021-12-29T11:18:21.334Z"
   },
   {
    "duration": 18,
    "start_time": "2021-12-29T11:18:22.568Z"
   },
   {
    "duration": 23,
    "start_time": "2021-12-29T11:18:24.480Z"
   },
   {
    "duration": 24,
    "start_time": "2021-12-29T11:18:25.530Z"
   },
   {
    "duration": 104,
    "start_time": "2021-12-29T11:25:47.504Z"
   },
   {
    "duration": 375,
    "start_time": "2021-12-29T11:25:57.990Z"
   },
   {
    "duration": 261,
    "start_time": "2021-12-29T11:27:54.577Z"
   },
   {
    "duration": 291,
    "start_time": "2021-12-29T11:30:45.384Z"
   },
   {
    "duration": 273,
    "start_time": "2021-12-29T11:31:46.310Z"
   },
   {
    "duration": 6,
    "start_time": "2021-12-29T11:33:43.011Z"
   },
   {
    "duration": 8,
    "start_time": "2021-12-29T11:33:55.766Z"
   },
   {
    "duration": 6,
    "start_time": "2021-12-29T11:34:00.215Z"
   },
   {
    "duration": 6,
    "start_time": "2021-12-29T11:34:11.557Z"
   },
   {
    "duration": 6,
    "start_time": "2021-12-29T11:34:20.115Z"
   },
   {
    "duration": 13,
    "start_time": "2021-12-29T11:34:37.651Z"
   },
   {
    "duration": 12,
    "start_time": "2021-12-29T11:35:32.847Z"
   },
   {
    "duration": 97,
    "start_time": "2021-12-29T11:36:09.388Z"
   },
   {
    "duration": 6,
    "start_time": "2021-12-29T11:36:15.888Z"
   },
   {
    "duration": 13,
    "start_time": "2021-12-29T11:36:28.541Z"
   },
   {
    "duration": 34,
    "start_time": "2021-12-29T11:36:53.593Z"
   },
   {
    "duration": 66,
    "start_time": "2021-12-29T11:37:23.289Z"
   },
   {
    "duration": 114,
    "start_time": "2021-12-29T11:38:34.601Z"
   },
   {
    "duration": 14,
    "start_time": "2021-12-29T11:40:43.193Z"
   },
   {
    "duration": 31,
    "start_time": "2021-12-29T11:40:55.652Z"
   },
   {
    "duration": 17,
    "start_time": "2021-12-29T11:41:13.929Z"
   },
   {
    "duration": 12,
    "start_time": "2021-12-29T11:41:43.685Z"
   },
   {
    "duration": 34,
    "start_time": "2021-12-29T11:41:59.916Z"
   },
   {
    "duration": 20,
    "start_time": "2021-12-29T11:42:03.575Z"
   },
   {
    "duration": 4,
    "start_time": "2021-12-29T11:44:50.063Z"
   },
   {
    "duration": 6,
    "start_time": "2021-12-29T11:45:50.061Z"
   },
   {
    "duration": 6,
    "start_time": "2021-12-29T11:45:59.064Z"
   },
   {
    "duration": 5,
    "start_time": "2021-12-29T11:46:20.086Z"
   },
   {
    "duration": 5,
    "start_time": "2021-12-29T11:48:16.621Z"
   },
   {
    "duration": 5,
    "start_time": "2021-12-29T11:48:22.598Z"
   },
   {
    "duration": 7,
    "start_time": "2021-12-29T11:50:38.526Z"
   },
   {
    "duration": 6,
    "start_time": "2021-12-29T11:51:24.906Z"
   },
   {
    "duration": 3,
    "start_time": "2021-12-29T11:52:24.262Z"
   },
   {
    "duration": 190,
    "start_time": "2021-12-29T11:52:24.276Z"
   },
   {
    "duration": 15,
    "start_time": "2021-12-29T11:52:24.469Z"
   },
   {
    "duration": 47,
    "start_time": "2021-12-29T11:52:24.486Z"
   },
   {
    "duration": 6,
    "start_time": "2021-12-29T11:52:24.536Z"
   },
   {
    "duration": 33,
    "start_time": "2021-12-29T11:52:24.544Z"
   },
   {
    "duration": 42,
    "start_time": "2021-12-29T11:52:24.579Z"
   },
   {
    "duration": 32,
    "start_time": "2021-12-29T11:52:24.624Z"
   },
   {
    "duration": 23,
    "start_time": "2021-12-29T11:52:24.658Z"
   },
   {
    "duration": 55,
    "start_time": "2021-12-29T11:52:24.684Z"
   },
   {
    "duration": 97,
    "start_time": "2021-12-29T11:52:24.742Z"
   },
   {
    "duration": 113,
    "start_time": "2021-12-29T11:52:24.842Z"
   },
   {
    "duration": 84,
    "start_time": "2021-12-29T11:52:24.958Z"
   },
   {
    "duration": 8,
    "start_time": "2021-12-29T11:52:35.992Z"
   },
   {
    "duration": 17,
    "start_time": "2021-12-29T11:52:52.064Z"
   },
   {
    "duration": 7,
    "start_time": "2021-12-29T11:54:57.337Z"
   },
   {
    "duration": 4,
    "start_time": "2021-12-29T11:55:02.464Z"
   },
   {
    "duration": 214,
    "start_time": "2021-12-29T11:55:02.471Z"
   },
   {
    "duration": 16,
    "start_time": "2021-12-29T11:55:02.688Z"
   },
   {
    "duration": 32,
    "start_time": "2021-12-29T11:55:02.717Z"
   },
   {
    "duration": 5,
    "start_time": "2021-12-29T11:55:02.752Z"
   },
   {
    "duration": 59,
    "start_time": "2021-12-29T11:55:02.760Z"
   },
   {
    "duration": 6,
    "start_time": "2021-12-29T11:55:02.821Z"
   },
   {
    "duration": 37,
    "start_time": "2021-12-29T11:55:02.830Z"
   },
   {
    "duration": 65,
    "start_time": "2021-12-29T11:55:02.873Z"
   },
   {
    "duration": 49,
    "start_time": "2021-12-29T11:55:02.943Z"
   },
   {
    "duration": 128,
    "start_time": "2021-12-29T11:55:03.019Z"
   },
   {
    "duration": 147,
    "start_time": "2021-12-29T11:55:03.151Z"
   },
   {
    "duration": 126,
    "start_time": "2021-12-29T11:55:03.301Z"
   },
   {
    "duration": 20,
    "start_time": "2021-12-29T11:55:03.430Z"
   },
   {
    "duration": 20,
    "start_time": "2021-12-29T11:55:03.453Z"
   },
   {
    "duration": 53,
    "start_time": "2021-12-29T11:55:03.476Z"
   },
   {
    "duration": 94,
    "start_time": "2021-12-29T11:55:03.531Z"
   },
   {
    "duration": 18,
    "start_time": "2021-12-29T11:55:03.628Z"
   },
   {
    "duration": 17,
    "start_time": "2021-12-29T11:55:03.648Z"
   },
   {
    "duration": 6,
    "start_time": "2021-12-29T11:55:03.667Z"
   },
   {
    "duration": 63,
    "start_time": "2021-12-29T11:55:03.675Z"
   },
   {
    "duration": 21,
    "start_time": "2021-12-29T11:55:03.740Z"
   },
   {
    "duration": 21,
    "start_time": "2021-12-29T11:55:03.764Z"
   },
   {
    "duration": 19,
    "start_time": "2021-12-29T11:55:03.818Z"
   },
   {
    "duration": 25,
    "start_time": "2021-12-29T11:55:03.840Z"
   },
   {
    "duration": 54,
    "start_time": "2021-12-29T11:55:03.868Z"
   },
   {
    "duration": 139,
    "start_time": "2021-12-29T11:55:03.927Z"
   },
   {
    "duration": 23,
    "start_time": "2021-12-29T11:55:04.070Z"
   },
   {
    "duration": 31,
    "start_time": "2021-12-29T11:55:04.095Z"
   },
   {
    "duration": 7,
    "start_time": "2021-12-29T11:55:04.128Z"
   },
   {
    "duration": 581,
    "start_time": "2021-12-29T11:55:27.357Z"
   },
   {
    "duration": 6,
    "start_time": "2021-12-29T12:58:56.092Z"
   },
   {
    "duration": 614,
    "start_time": "2021-12-29T12:59:00.821Z"
   },
   {
    "duration": 9,
    "start_time": "2021-12-29T13:00:02.528Z"
   },
   {
    "duration": 606,
    "start_time": "2021-12-29T13:00:04.670Z"
   },
   {
    "duration": 6,
    "start_time": "2021-12-29T13:00:59.067Z"
   },
   {
    "duration": 596,
    "start_time": "2021-12-29T13:01:00.134Z"
   },
   {
    "duration": 513,
    "start_time": "2021-12-29T13:06:56.047Z"
   },
   {
    "duration": 292,
    "start_time": "2021-12-29T13:07:22.427Z"
   },
   {
    "duration": 1093,
    "start_time": "2021-12-29T13:08:29.189Z"
   },
   {
    "duration": 103,
    "start_time": "2021-12-29T13:10:16.575Z"
   },
   {
    "duration": 120,
    "start_time": "2021-12-29T13:10:38.697Z"
   },
   {
    "duration": 399,
    "start_time": "2021-12-29T13:10:45.879Z"
   },
   {
    "duration": 300,
    "start_time": "2021-12-29T13:11:05.197Z"
   },
   {
    "duration": 904,
    "start_time": "2021-12-29T13:22:22.180Z"
   },
   {
    "duration": 8,
    "start_time": "2021-12-29T13:25:52.943Z"
   },
   {
    "duration": 770,
    "start_time": "2021-12-29T13:25:55.038Z"
   },
   {
    "duration": 862,
    "start_time": "2021-12-29T13:36:50.758Z"
   },
   {
    "duration": 6,
    "start_time": "2021-12-29T13:37:11.070Z"
   },
   {
    "duration": 819,
    "start_time": "2021-12-29T13:37:12.643Z"
   },
   {
    "duration": 18,
    "start_time": "2021-12-29T13:39:24.969Z"
   },
   {
    "duration": 33,
    "start_time": "2021-12-29T13:39:26.023Z"
   },
   {
    "duration": 41,
    "start_time": "2021-12-29T13:43:04.982Z"
   },
   {
    "duration": 29,
    "start_time": "2021-12-29T13:43:41.696Z"
   },
   {
    "duration": 18,
    "start_time": "2021-12-29T13:43:54.273Z"
   },
   {
    "duration": 17,
    "start_time": "2021-12-29T13:44:14.169Z"
   },
   {
    "duration": 308,
    "start_time": "2021-12-29T13:48:30.705Z"
   },
   {
    "duration": 372,
    "start_time": "2021-12-29T13:49:03.597Z"
   },
   {
    "duration": 291,
    "start_time": "2021-12-29T13:49:17.943Z"
   },
   {
    "duration": 289,
    "start_time": "2021-12-29T13:49:29.643Z"
   },
   {
    "duration": 405,
    "start_time": "2021-12-29T13:50:08.593Z"
   },
   {
    "duration": 18,
    "start_time": "2021-12-29T13:50:41.642Z"
   },
   {
    "duration": 17,
    "start_time": "2021-12-29T13:50:44.911Z"
   },
   {
    "duration": 300,
    "start_time": "2021-12-29T13:51:07.220Z"
   },
   {
    "duration": 13,
    "start_time": "2021-12-29T13:51:15.287Z"
   },
   {
    "duration": 8,
    "start_time": "2021-12-29T13:51:16.229Z"
   },
   {
    "duration": 14,
    "start_time": "2021-12-29T13:51:29.981Z"
   },
   {
    "duration": 7,
    "start_time": "2021-12-29T13:51:32.838Z"
   },
   {
    "duration": 13,
    "start_time": "2021-12-29T13:51:48.760Z"
   },
   {
    "duration": 7,
    "start_time": "2021-12-29T13:51:49.873Z"
   },
   {
    "duration": 444,
    "start_time": "2021-12-29T13:52:16.824Z"
   },
   {
    "duration": 10,
    "start_time": "2021-12-29T13:52:33.627Z"
   },
   {
    "duration": 8,
    "start_time": "2021-12-29T13:52:57.248Z"
   },
   {
    "duration": 13,
    "start_time": "2021-12-29T13:53:45.850Z"
   },
   {
    "duration": 8,
    "start_time": "2021-12-29T13:53:47.846Z"
   },
   {
    "duration": 9,
    "start_time": "2021-12-29T13:54:08.572Z"
   },
   {
    "duration": 6,
    "start_time": "2021-12-29T13:54:09.885Z"
   },
   {
    "duration": 14,
    "start_time": "2021-12-29T13:54:17.652Z"
   },
   {
    "duration": 10,
    "start_time": "2021-12-29T13:54:18.525Z"
   },
   {
    "duration": 14,
    "start_time": "2021-12-29T14:34:34.801Z"
   },
   {
    "duration": 3,
    "start_time": "2021-12-29T14:34:41.867Z"
   },
   {
    "duration": 203,
    "start_time": "2021-12-29T14:34:42.022Z"
   },
   {
    "duration": 17,
    "start_time": "2021-12-29T14:34:42.228Z"
   },
   {
    "duration": 72,
    "start_time": "2021-12-29T14:34:42.250Z"
   },
   {
    "duration": 8,
    "start_time": "2021-12-29T14:34:42.326Z"
   },
   {
    "duration": 37,
    "start_time": "2021-12-29T14:34:42.339Z"
   },
   {
    "duration": 41,
    "start_time": "2021-12-29T14:34:42.380Z"
   },
   {
    "duration": 42,
    "start_time": "2021-12-29T14:34:42.425Z"
   },
   {
    "duration": 62,
    "start_time": "2021-12-29T14:34:42.470Z"
   },
   {
    "duration": 48,
    "start_time": "2021-12-29T14:34:42.538Z"
   },
   {
    "duration": 148,
    "start_time": "2021-12-29T14:34:42.590Z"
   },
   {
    "duration": 153,
    "start_time": "2021-12-29T14:34:42.741Z"
   },
   {
    "duration": 87,
    "start_time": "2021-12-29T14:34:42.896Z"
   },
   {
    "duration": 33,
    "start_time": "2021-12-29T14:34:42.986Z"
   },
   {
    "duration": 5,
    "start_time": "2021-12-29T14:34:43.022Z"
   },
   {
    "duration": 28,
    "start_time": "2021-12-29T14:34:43.030Z"
   },
   {
    "duration": 17,
    "start_time": "2021-12-29T14:34:43.061Z"
   },
   {
    "duration": 56,
    "start_time": "2021-12-29T14:34:43.082Z"
   },
   {
    "duration": 24,
    "start_time": "2021-12-29T14:34:43.141Z"
   },
   {
    "duration": 6,
    "start_time": "2021-12-29T14:34:43.168Z"
   },
   {
    "duration": 66,
    "start_time": "2021-12-29T14:34:43.176Z"
   },
   {
    "duration": 18,
    "start_time": "2021-12-29T14:34:43.245Z"
   },
   {
    "duration": 19,
    "start_time": "2021-12-29T14:34:43.266Z"
   },
   {
    "duration": 20,
    "start_time": "2021-12-29T14:34:43.317Z"
   },
   {
    "duration": 19,
    "start_time": "2021-12-29T14:34:43.339Z"
   },
   {
    "duration": 57,
    "start_time": "2021-12-29T14:34:43.360Z"
   },
   {
    "duration": 161,
    "start_time": "2021-12-29T14:34:43.420Z"
   },
   {
    "duration": 33,
    "start_time": "2021-12-29T14:34:43.588Z"
   },
   {
    "duration": 22,
    "start_time": "2021-12-29T14:34:43.625Z"
   },
   {
    "duration": 8,
    "start_time": "2021-12-29T14:34:43.650Z"
   },
   {
    "duration": 72,
    "start_time": "2021-12-29T14:34:43.662Z"
   },
   {
    "duration": 20,
    "start_time": "2021-12-29T14:34:43.737Z"
   },
   {
    "duration": 59,
    "start_time": "2021-12-29T14:34:43.760Z"
   },
   {
    "duration": 19,
    "start_time": "2021-12-29T14:34:43.822Z"
   },
   {
    "duration": 13,
    "start_time": "2021-12-29T14:34:43.845Z"
   },
   {
    "duration": 8,
    "start_time": "2021-12-29T14:34:43.861Z"
   },
   {
    "duration": 51,
    "start_time": "2021-12-29T14:34:43.872Z"
   },
   {
    "duration": 8,
    "start_time": "2021-12-29T14:34:43.926Z"
   },
   {
    "duration": 7,
    "start_time": "2021-12-29T14:35:43.083Z"
   },
   {
    "duration": 31,
    "start_time": "2021-12-29T14:35:45.777Z"
   },
   {
    "duration": 20,
    "start_time": "2021-12-29T14:35:46.454Z"
   },
   {
    "duration": 22,
    "start_time": "2021-12-29T14:35:46.984Z"
   },
   {
    "duration": 21,
    "start_time": "2021-12-29T14:35:47.277Z"
   },
   {
    "duration": 30,
    "start_time": "2021-12-29T14:35:47.581Z"
   },
   {
    "duration": 28,
    "start_time": "2021-12-29T14:35:48.091Z"
   },
   {
    "duration": 101,
    "start_time": "2021-12-29T14:35:49.488Z"
   },
   {
    "duration": 18,
    "start_time": "2021-12-29T14:36:01.135Z"
   },
   {
    "duration": 13,
    "start_time": "2021-12-29T14:36:01.539Z"
   },
   {
    "duration": 8,
    "start_time": "2021-12-29T14:36:03.109Z"
   },
   {
    "duration": 6,
    "start_time": "2021-12-29T14:36:27.238Z"
   },
   {
    "duration": 1419,
    "start_time": "2021-12-29T14:36:31.654Z"
   },
   {
    "duration": 138,
    "start_time": "2021-12-29T14:36:57.646Z"
   },
   {
    "duration": 1537,
    "start_time": "2021-12-29T14:37:00.676Z"
   },
   {
    "duration": 1558,
    "start_time": "2021-12-29T14:37:03.240Z"
   },
   {
    "duration": 8,
    "start_time": "2021-12-29T14:37:25.294Z"
   },
   {
    "duration": 35,
    "start_time": "2021-12-29T14:37:27.644Z"
   },
   {
    "duration": 26,
    "start_time": "2021-12-29T14:37:30.958Z"
   },
   {
    "duration": 36,
    "start_time": "2021-12-29T14:37:37.500Z"
   },
   {
    "duration": 24,
    "start_time": "2021-12-29T14:37:37.539Z"
   },
   {
    "duration": 17,
    "start_time": "2021-12-29T14:37:37.567Z"
   },
   {
    "duration": 32,
    "start_time": "2021-12-29T14:37:37.588Z"
   },
   {
    "duration": 13,
    "start_time": "2021-12-29T14:37:37.624Z"
   },
   {
    "duration": 9,
    "start_time": "2021-12-29T14:37:37.640Z"
   },
   {
    "duration": 144,
    "start_time": "2021-12-30T14:34:02.659Z"
   },
   {
    "duration": 10,
    "start_time": "2021-12-30T14:36:17.194Z"
   }
  ],
  "colab": {
   "collapsed_sections": [
    "E0vqbgi9ay0H",
    "VUC88oWjTJw2"
   ],
   "name": "yandex_music_project_2021.2.ipynb",
   "provenance": []
  },
  "kernelspec": {
   "display_name": "Python 3 (ipykernel)",
   "language": "python",
   "name": "python3"
  },
  "language_info": {
   "codemirror_mode": {
    "name": "ipython",
    "version": 3
   },
   "file_extension": ".py",
   "mimetype": "text/x-python",
   "name": "python",
   "nbconvert_exporter": "python",
   "pygments_lexer": "ipython3",
   "version": "3.9.7"
  },
  "toc": {
   "base_numbering": 1,
   "nav_menu": {},
   "number_sections": true,
   "sideBar": true,
   "skip_h1_title": true,
   "title_cell": "Table of Contents",
   "title_sidebar": "Contents",
   "toc_cell": false,
   "toc_position": {
    "height": "calc(100% - 180px)",
    "left": "10px",
    "top": "150px",
    "width": "165px"
   },
   "toc_section_display": true,
   "toc_window_display": true
  }
 },
 "nbformat": 4,
 "nbformat_minor": 1
}
